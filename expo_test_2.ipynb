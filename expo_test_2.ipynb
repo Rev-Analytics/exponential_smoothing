{
 "cells": [
  {
   "cell_type": "markdown",
   "metadata": {},
   "source": [
    "#### Test final implementation of expo.py module\n",
    "\n",
    "running similar test with new dataset - iowa liqors"
   ]
  },
  {
   "cell_type": "code",
   "execution_count": 1,
   "metadata": {},
   "outputs": [],
   "source": [
    "import os\n",
    "import pandas as pd\n",
    "import numpy as np\n",
    "from datetime import datetime\n",
    "\n",
    "import matplotlib.pyplot as plt\n",
    "from statsmodels.tsa.api import ExponentialSmoothing, SimpleExpSmoothing, Holt\n",
    "\n",
    "%matplotlib inline\n",
    "from prep import prep\n",
    "from expo import expo"
   ]
  },
  {
   "cell_type": "code",
   "execution_count": 3,
   "metadata": {},
   "outputs": [],
   "source": [
    "df = pd.read_csv('iowa_liquors.csv')"
   ]
  },
  {
   "cell_type": "code",
   "execution_count": 4,
   "metadata": {},
   "outputs": [
    {
     "data": {
      "text/html": [
       "<div>\n",
       "<style scoped>\n",
       "    .dataframe tbody tr th:only-of-type {\n",
       "        vertical-align: middle;\n",
       "    }\n",
       "\n",
       "    .dataframe tbody tr th {\n",
       "        vertical-align: top;\n",
       "    }\n",
       "\n",
       "    .dataframe thead th {\n",
       "        text-align: right;\n",
       "    }\n",
       "</style>\n",
       "<table border=\"1\" class=\"dataframe\">\n",
       "  <thead>\n",
       "    <tr style=\"text-align: right;\">\n",
       "      <th></th>\n",
       "      <th>date</th>\n",
       "      <th>store_number</th>\n",
       "      <th>store_name</th>\n",
       "      <th>city</th>\n",
       "      <th>county</th>\n",
       "      <th>sales</th>\n",
       "    </tr>\n",
       "  </thead>\n",
       "  <tbody>\n",
       "    <tr>\n",
       "      <th>0</th>\n",
       "      <td>2022-01-09</td>\n",
       "      <td>4129</td>\n",
       "      <td>Cyclone Liquors</td>\n",
       "      <td>Ames</td>\n",
       "      <td>STORY</td>\n",
       "      <td>3570.58</td>\n",
       "    </tr>\n",
       "    <tr>\n",
       "      <th>1</th>\n",
       "      <td>2022-01-16</td>\n",
       "      <td>4129</td>\n",
       "      <td>Cyclone Liquors</td>\n",
       "      <td>Ames</td>\n",
       "      <td>STORY</td>\n",
       "      <td>13461.98</td>\n",
       "    </tr>\n",
       "    <tr>\n",
       "      <th>2</th>\n",
       "      <td>2022-01-23</td>\n",
       "      <td>4129</td>\n",
       "      <td>Cyclone Liquors</td>\n",
       "      <td>Ames</td>\n",
       "      <td>STORY</td>\n",
       "      <td>12398.75</td>\n",
       "    </tr>\n",
       "    <tr>\n",
       "      <th>3</th>\n",
       "      <td>2022-01-30</td>\n",
       "      <td>4129</td>\n",
       "      <td>Cyclone Liquors</td>\n",
       "      <td>Ames</td>\n",
       "      <td>STORY</td>\n",
       "      <td>15761.38</td>\n",
       "    </tr>\n",
       "    <tr>\n",
       "      <th>4</th>\n",
       "      <td>2022-02-06</td>\n",
       "      <td>4129</td>\n",
       "      <td>Cyclone Liquors</td>\n",
       "      <td>Ames</td>\n",
       "      <td>STORY</td>\n",
       "      <td>14926.81</td>\n",
       "    </tr>\n",
       "  </tbody>\n",
       "</table>\n",
       "</div>"
      ],
      "text/plain": [
       "         date  store_number       store_name  city county     sales\n",
       "0  2022-01-09          4129  Cyclone Liquors  Ames  STORY   3570.58\n",
       "1  2022-01-16          4129  Cyclone Liquors  Ames  STORY  13461.98\n",
       "2  2022-01-23          4129  Cyclone Liquors  Ames  STORY  12398.75\n",
       "3  2022-01-30          4129  Cyclone Liquors  Ames  STORY  15761.38\n",
       "4  2022-02-06          4129  Cyclone Liquors  Ames  STORY  14926.81"
      ]
     },
     "execution_count": 4,
     "metadata": {},
     "output_type": "execute_result"
    }
   ],
   "source": [
    "df.head()"
   ]
  },
  {
   "cell_type": "code",
   "execution_count": 5,
   "metadata": {},
   "outputs": [],
   "source": [
    "f_list = ['store_number','store_name','city','county']"
   ]
  },
  {
   "cell_type": "code",
   "execution_count": 6,
   "metadata": {},
   "outputs": [
    {
     "name": "stdout",
     "output_type": "stream",
     "text": [
      "this is inside method, after serilazie function  Index(['store_number', 'store_name', 'city', 'county', 'date', 'srl_num',\n",
      "       'index', 'sales'],\n",
      "      dtype='object')\n",
      "104 Does not contain a minimum of  24  observations\n",
      "[2190, 'Central City 2', 'Des Moines', 'POLK']\n",
      "100 Does not contain a minimum of  24  observations\n",
      "[2648.0, 'Hy-Vee #4 / Wdm', 'West Des Moines', 'POLK']\n",
      "102 Does not contain a minimum of  24  observations\n",
      "[2663.0, 'Hy-Vee Food Store / Douglas', 'Urbandale', 'POLK']\n",
      "103 Does not contain a minimum of  24  observations\n",
      "[3814.0, 'Costco Wholesale #788', 'West Des Moines', 'Dallas']\n"
     ]
    },
    {
     "name": "stderr",
     "output_type": "stream",
     "text": [
      "/workspaces/exponential_smoothing/prep.py:84: FutureWarning: The frame.append method is deprecated and will be removed from pandas in a future version. Use pandas.concat instead.\n",
      "  stage_df = stage_df.append(temp2,ignore_index=True)\n"
     ]
    }
   ],
   "source": [
    "df_prep = prep(df,'date','sales',f_list).df_ready\n",
    "#df_prep = prep(df,'date','sales',f_list,fill_missing=False).df_ready\n"
   ]
  },
  {
   "cell_type": "code",
   "execution_count": 7,
   "metadata": {},
   "outputs": [
    {
     "data": {
      "text/html": [
       "<div>\n",
       "<style scoped>\n",
       "    .dataframe tbody tr th:only-of-type {\n",
       "        vertical-align: middle;\n",
       "    }\n",
       "\n",
       "    .dataframe tbody tr th {\n",
       "        vertical-align: top;\n",
       "    }\n",
       "\n",
       "    .dataframe thead th {\n",
       "        text-align: right;\n",
       "    }\n",
       "</style>\n",
       "<table border=\"1\" class=\"dataframe\">\n",
       "  <thead>\n",
       "    <tr style=\"text-align: right;\">\n",
       "      <th></th>\n",
       "      <th>store_number</th>\n",
       "      <th>store_name</th>\n",
       "      <th>city</th>\n",
       "      <th>county</th>\n",
       "      <th>date</th>\n",
       "      <th>srl_num</th>\n",
       "      <th>sales</th>\n",
       "    </tr>\n",
       "  </thead>\n",
       "  <tbody>\n",
       "    <tr>\n",
       "      <th>0</th>\n",
       "      <td>2106.0</td>\n",
       "      <td>Hillstreet News and Tobacco</td>\n",
       "      <td>Cedar Falls</td>\n",
       "      <td>BLACK HAWK</td>\n",
       "      <td>2018-01-07</td>\n",
       "      <td>74</td>\n",
       "      <td>25002.40</td>\n",
       "    </tr>\n",
       "    <tr>\n",
       "      <th>1</th>\n",
       "      <td>2106.0</td>\n",
       "      <td>Hillstreet News and Tobacco</td>\n",
       "      <td>Cedar Falls</td>\n",
       "      <td>BLACK HAWK</td>\n",
       "      <td>2018-01-14</td>\n",
       "      <td>74</td>\n",
       "      <td>19113.59</td>\n",
       "    </tr>\n",
       "    <tr>\n",
       "      <th>2</th>\n",
       "      <td>2106.0</td>\n",
       "      <td>Hillstreet News and Tobacco</td>\n",
       "      <td>Cedar Falls</td>\n",
       "      <td>BLACK HAWK</td>\n",
       "      <td>2018-01-21</td>\n",
       "      <td>74</td>\n",
       "      <td>25661.55</td>\n",
       "    </tr>\n",
       "    <tr>\n",
       "      <th>3</th>\n",
       "      <td>2106.0</td>\n",
       "      <td>Hillstreet News and Tobacco</td>\n",
       "      <td>Cedar Falls</td>\n",
       "      <td>BLACK HAWK</td>\n",
       "      <td>2018-01-28</td>\n",
       "      <td>74</td>\n",
       "      <td>24784.86</td>\n",
       "    </tr>\n",
       "    <tr>\n",
       "      <th>4</th>\n",
       "      <td>2106.0</td>\n",
       "      <td>Hillstreet News and Tobacco</td>\n",
       "      <td>Cedar Falls</td>\n",
       "      <td>BLACK HAWK</td>\n",
       "      <td>2018-02-04</td>\n",
       "      <td>74</td>\n",
       "      <td>22205.05</td>\n",
       "    </tr>\n",
       "  </tbody>\n",
       "</table>\n",
       "</div>"
      ],
      "text/plain": [
       "   store_number                   store_name         city      county  \\\n",
       "0        2106.0  Hillstreet News and Tobacco  Cedar Falls  BLACK HAWK   \n",
       "1        2106.0  Hillstreet News and Tobacco  Cedar Falls  BLACK HAWK   \n",
       "2        2106.0  Hillstreet News and Tobacco  Cedar Falls  BLACK HAWK   \n",
       "3        2106.0  Hillstreet News and Tobacco  Cedar Falls  BLACK HAWK   \n",
       "4        2106.0  Hillstreet News and Tobacco  Cedar Falls  BLACK HAWK   \n",
       "\n",
       "        date srl_num     sales  \n",
       "0 2018-01-07      74  25002.40  \n",
       "1 2018-01-14      74  19113.59  \n",
       "2 2018-01-21      74  25661.55  \n",
       "3 2018-01-28      74  24784.86  \n",
       "4 2018-02-04      74  22205.05  "
      ]
     },
     "execution_count": 7,
     "metadata": {},
     "output_type": "execute_result"
    }
   ],
   "source": [
    "df_prep.head()"
   ]
  },
  {
   "cell_type": "code",
   "execution_count": 9,
   "metadata": {},
   "outputs": [
    {
     "data": {
      "text/plain": [
       "<matplotlib.legend.Legend at 0x7fc04869e1a0>"
      ]
     },
     "execution_count": 9,
     "metadata": {},
     "output_type": "execute_result"
    },
    {
     "data": {
      "image/png": "[encoded data removed]",
      "text/plain": [
       "<Figure size 864x576 with 1 Axes>"
      ]
     },
     "metadata": {
      "needs_background": "light"
     },
     "output_type": "display_data"
    }
   ],
   "source": [
    "fig, ax = plt.subplots(figsize=(12,8))\n",
    "ax.plot(df_prep[df_prep.srl_num == '1'].date,df_prep[df_prep.srl_num == '1'].sales,label='sales')\n",
    "# ax.plot(new_fc_df.date,new_fc_df.forecast,color='red',label='forecast')\n",
    "ax.legend()"
   ]
  },
  {
   "cell_type": "code",
   "execution_count": 10,
   "metadata": {},
   "outputs": [
    {
     "data": {
      "text/plain": [
       "store_number           float64\n",
       "store_name              object\n",
       "city                    object\n",
       "county                  object\n",
       "date            datetime64[ns]\n",
       "srl_num                 object\n",
       "sales                  float64\n",
       "dtype: object"
      ]
     },
     "execution_count": 10,
     "metadata": {},
     "output_type": "execute_result"
    }
   ],
   "source": [
    "df_prep.dtypes"
   ]
  },
  {
   "cell_type": "code",
   "execution_count": 12,
   "metadata": {},
   "outputs": [
    {
     "name": "stdout",
     "output_type": "stream",
     "text": [
      "Forecasting the following store_number                         2106.0\n",
      "store_name      Hillstreet News and Tobacco\n",
      "city                            Cedar Falls\n",
      "county                           BLACK HAWK\n",
      "srl_num                                  74\n",
      "Name: 0, dtype: object ...\n"
     ]
    },
    {
     "name": "stderr",
     "output_type": "stream",
     "text": [
      "/workspaces/exponential_smoothing/.venv/lib/python3.10/site-packages/statsmodels/tsa/base/tsa_model.py:471: ValueWarning: A date index has been provided, but it has no associated frequency information and so will be ignored when e.g. forecasting.\n",
      "  self._init_dates(dates, freq)\n",
      "/workspaces/exponential_smoothing/.venv/lib/python3.10/site-packages/statsmodels/tsa/holtwinters/model.py:915: ConvergenceWarning: Optimization failed to converge. Check mle_retvals.\n",
      "  warnings.warn(\n",
      "/workspaces/exponential_smoothing/.venv/lib/python3.10/site-packages/statsmodels/tsa/base/tsa_model.py:834: ValueWarning: No supported index is available. Prediction results will be given with an integer index beginning at `start`.\n",
      "  return get_prediction_index(\n",
      "/workspaces/exponential_smoothing/expo.py:146: FutureWarning: The frame.append method is deprecated and will be removed from pandas in a future version. Use pandas.concat instead.\n",
      "  forecast = forecast.append(fcast,ignore_index=True)\n",
      "/workspaces/exponential_smoothing/.venv/lib/python3.10/site-packages/statsmodels/tsa/base/tsa_model.py:471: ValueWarning: A date index has been provided, but it has no associated frequency information and so will be ignored when e.g. forecasting.\n",
      "  self._init_dates(dates, freq)\n",
      "/workspaces/exponential_smoothing/.venv/lib/python3.10/site-packages/statsmodels/tsa/holtwinters/model.py:915: ConvergenceWarning: Optimization failed to converge. Check mle_retvals.\n",
      "  warnings.warn(\n",
      "/workspaces/exponential_smoothing/.venv/lib/python3.10/site-packages/statsmodels/tsa/base/tsa_model.py:834: ValueWarning: No supported index is available. Prediction results will be given with an integer index beginning at `start`.\n",
      "  return get_prediction_index(\n"
     ]
    },
    {
     "name": "stdout",
     "output_type": "stream",
     "text": [
      "Forecasting the following store_number                  2130.0\n",
      "store_name      Sycamore Convenience\n",
      "city                        Waterloo\n",
      "county                    BLACK HAWK\n",
      "srl_num                           29\n",
      "Name: 213, dtype: object ...\n",
      "Forecasting the following store_number                       2190.0\n",
      "store_name      Central City Liquor, Inc.\n",
      "city                           Des Moines\n",
      "county                               POLK\n",
      "srl_num                                55\n",
      "Name: 426, dtype: object ...\n"
     ]
    },
    {
     "name": "stderr",
     "output_type": "stream",
     "text": [
      "/workspaces/exponential_smoothing/expo.py:146: FutureWarning: The frame.append method is deprecated and will be removed from pandas in a future version. Use pandas.concat instead.\n",
      "  forecast = forecast.append(fcast,ignore_index=True)\n",
      "/workspaces/exponential_smoothing/.venv/lib/python3.10/site-packages/statsmodels/tsa/base/tsa_model.py:471: ValueWarning: No frequency information was provided, so inferred frequency W-SUN will be used.\n",
      "  self._init_dates(dates, freq)\n",
      "/workspaces/exponential_smoothing/.venv/lib/python3.10/site-packages/statsmodels/tsa/holtwinters/model.py:915: ConvergenceWarning: Optimization failed to converge. Check mle_retvals.\n",
      "  warnings.warn(\n",
      "/workspaces/exponential_smoothing/expo.py:146: FutureWarning: The frame.append method is deprecated and will be removed from pandas in a future version. Use pandas.concat instead.\n",
      "  forecast = forecast.append(fcast,ignore_index=True)\n",
      "/workspaces/exponential_smoothing/.venv/lib/python3.10/site-packages/statsmodels/tsa/base/tsa_model.py:471: ValueWarning: A date index has been provided, but it has no associated frequency information and so will be ignored when e.g. forecasting.\n",
      "  self._init_dates(dates, freq)\n",
      "/workspaces/exponential_smoothing/.venv/lib/python3.10/site-packages/statsmodels/tsa/holtwinters/model.py:915: ConvergenceWarning: Optimization failed to converge. Check mle_retvals.\n",
      "  warnings.warn(\n",
      "/workspaces/exponential_smoothing/.venv/lib/python3.10/site-packages/statsmodels/tsa/base/tsa_model.py:834: ValueWarning: No supported index is available. Prediction results will be given with an integer index beginning at `start`.\n",
      "  return get_prediction_index(\n",
      "/workspaces/exponential_smoothing/expo.py:146: FutureWarning: The frame.append method is deprecated and will be removed from pandas in a future version. Use pandas.concat instead.\n",
      "  forecast = forecast.append(fcast,ignore_index=True)\n",
      "/workspaces/exponential_smoothing/.venv/lib/python3.10/site-packages/statsmodels/tsa/base/tsa_model.py:471: ValueWarning: No frequency information was provided, so inferred frequency W-SUN will be used.\n",
      "  self._init_dates(dates, freq)\n"
     ]
    },
    {
     "name": "stdout",
     "output_type": "stream",
     "text": [
      "Forecasting the following store_number            2191.0\n",
      "store_name      Keokuk Spirits\n",
      "city                    Keokuk\n",
      "county                     LEE\n",
      "srl_num                      9\n",
      "Name: 640, dtype: object ...\n",
      "Forecasting the following store_number            2285.0\n",
      "store_name      John's Grocery\n",
      "city                 Iowa City\n",
      "county                 JOHNSON\n",
      "srl_num                     40\n",
      "Name: 848, dtype: object ...\n"
     ]
    },
    {
     "name": "stderr",
     "output_type": "stream",
     "text": [
      "/workspaces/exponential_smoothing/.venv/lib/python3.10/site-packages/statsmodels/tsa/holtwinters/model.py:915: ConvergenceWarning: Optimization failed to converge. Check mle_retvals.\n",
      "  warnings.warn(\n",
      "/workspaces/exponential_smoothing/expo.py:146: FutureWarning: The frame.append method is deprecated and will be removed from pandas in a future version. Use pandas.concat instead.\n",
      "  forecast = forecast.append(fcast,ignore_index=True)\n",
      "/workspaces/exponential_smoothing/.venv/lib/python3.10/site-packages/statsmodels/tsa/base/tsa_model.py:471: ValueWarning: No frequency information was provided, so inferred frequency W-SUN will be used.\n",
      "  self._init_dates(dates, freq)\n",
      "/workspaces/exponential_smoothing/.venv/lib/python3.10/site-packages/statsmodels/tsa/holtwinters/model.py:915: ConvergenceWarning: Optimization failed to converge. Check mle_retvals.\n",
      "  warnings.warn(\n"
     ]
    },
    {
     "name": "stdout",
     "output_type": "stream",
     "text": [
      "Forecasting the following store_number                         2500.0\n",
      "store_name      Hy-Vee Food Store #1 / Ames\n",
      "city                                   Ames\n",
      "county                                STORY\n",
      "srl_num                                   3\n",
      "Name: 1061, dtype: object ...\n",
      "Forecasting the following store_number               2501.0\n",
      "store_name      Hy-Vee  #2 / Ames\n",
      "city                         Ames\n",
      "county                      STORY\n",
      "srl_num                         1\n",
      "Name: 1275, dtype: object ...\n"
     ]
    },
    {
     "name": "stderr",
     "output_type": "stream",
     "text": [
      "/workspaces/exponential_smoothing/expo.py:146: FutureWarning: The frame.append method is deprecated and will be removed from pandas in a future version. Use pandas.concat instead.\n",
      "  forecast = forecast.append(fcast,ignore_index=True)\n",
      "/workspaces/exponential_smoothing/.venv/lib/python3.10/site-packages/statsmodels/tsa/base/tsa_model.py:471: ValueWarning: No frequency information was provided, so inferred frequency W-SUN will be used.\n",
      "  self._init_dates(dates, freq)\n",
      "/workspaces/exponential_smoothing/.venv/lib/python3.10/site-packages/statsmodels/tsa/holtwinters/model.py:915: ConvergenceWarning: Optimization failed to converge. Check mle_retvals.\n",
      "  warnings.warn(\n",
      "/workspaces/exponential_smoothing/expo.py:146: FutureWarning: The frame.append method is deprecated and will be removed from pandas in a future version. Use pandas.concat instead.\n",
      "  forecast = forecast.append(fcast,ignore_index=True)\n",
      "/workspaces/exponential_smoothing/.venv/lib/python3.10/site-packages/statsmodels/tsa/base/tsa_model.py:471: ValueWarning: No frequency information was provided, so inferred frequency W-SUN will be used.\n",
      "  self._init_dates(dates, freq)\n"
     ]
    },
    {
     "name": "stdout",
     "output_type": "stream",
     "text": [
      "Forecasting the following store_number                              2502.0\n",
      "store_name      Hy-Vee Wine and Spirits / Ankeny\n",
      "city                                      Ankeny\n",
      "county                                      POLK\n",
      "srl_num                                        7\n",
      "Name: 1489, dtype: object ...\n",
      "Forecasting the following store_number                             2505.0\n",
      "store_name      Hy-Vee Wine and Spirits / Boone\n",
      "city                                      Boone\n",
      "county                                    BOONE\n",
      "srl_num                                       4\n",
      "Name: 1703, dtype: object ...\n"
     ]
    },
    {
     "name": "stderr",
     "output_type": "stream",
     "text": [
      "/workspaces/exponential_smoothing/.venv/lib/python3.10/site-packages/statsmodels/tsa/holtwinters/model.py:915: ConvergenceWarning: Optimization failed to converge. Check mle_retvals.\n",
      "  warnings.warn(\n",
      "/workspaces/exponential_smoothing/expo.py:146: FutureWarning: The frame.append method is deprecated and will be removed from pandas in a future version. Use pandas.concat instead.\n",
      "  forecast = forecast.append(fcast,ignore_index=True)\n",
      "/workspaces/exponential_smoothing/.venv/lib/python3.10/site-packages/statsmodels/tsa/base/tsa_model.py:471: ValueWarning: A date index has been provided, but it has no associated frequency information and so will be ignored when e.g. forecasting.\n",
      "  self._init_dates(dates, freq)\n",
      "/workspaces/exponential_smoothing/.venv/lib/python3.10/site-packages/statsmodels/tsa/holtwinters/model.py:915: ConvergenceWarning: Optimization failed to converge. Check mle_retvals.\n",
      "  warnings.warn(\n",
      "/workspaces/exponential_smoothing/.venv/lib/python3.10/site-packages/statsmodels/tsa/base/tsa_model.py:834: ValueWarning: No supported index is available. Prediction results will be given with an integer index beginning at `start`.\n",
      "  return get_prediction_index(\n",
      "/workspaces/exponential_smoothing/expo.py:146: FutureWarning: The frame.append method is deprecated and will be removed from pandas in a future version. Use pandas.concat instead.\n",
      "  forecast = forecast.append(fcast,ignore_index=True)\n",
      "/workspaces/exponential_smoothing/.venv/lib/python3.10/site-packages/statsmodels/tsa/base/tsa_model.py:471: ValueWarning: A date index has been provided, but it has no associated frequency information and so will be ignored when e.g. forecasting.\n",
      "  self._init_dates(dates, freq)\n",
      "/workspaces/exponential_smoothing/.venv/lib/python3.10/site-packages/statsmodels/tsa/holtwinters/model.py:915: ConvergenceWarning: Optimization failed to converge. Check mle_retvals.\n",
      "  warnings.warn(\n",
      "/workspaces/exponential_smoothing/.venv/lib/python3.10/site-packages/statsmodels/tsa/base/tsa_model.py:834: ValueWarning: No supported index is available. Prediction results will be given with an integer index beginning at `start`.\n",
      "  return get_prediction_index(\n",
      "/workspaces/exponential_smoothing/expo.py:146: FutureWarning: The frame.append method is deprecated and will be removed from pandas in a future version. Use pandas.concat instead.\n",
      "  forecast = forecast.append(fcast,ignore_index=True)\n",
      "/workspaces/exponential_smoothing/.venv/lib/python3.10/site-packages/statsmodels/tsa/base/tsa_model.py:471: ValueWarning: A date index has been provided, but it has no associated frequency information and so will be ignored when e.g. forecasting.\n",
      "  self._init_dates(dates, freq)\n"
     ]
    },
    {
     "name": "stdout",
     "output_type": "stream",
     "text": [
      "Forecasting the following store_number                       2506.0\n",
      "store_name      Hy-Vee #1044 / Burlington\n",
      "city                           Burlington\n",
      "county                         DES MOINES\n",
      "srl_num                                49\n",
      "Name: 1912, dtype: object ...\n",
      "Forecasting the following store_number                                 2508.0\n",
      "store_name      Hy-Vee Food Store #1 / Cedar Rapids\n",
      "city                                   Cedar Rapids\n",
      "county                                         LINN\n",
      "srl_num                                          81\n",
      "Name: 2122, dtype: object ...\n"
     ]
    },
    {
     "name": "stderr",
     "output_type": "stream",
     "text": [
      "/workspaces/exponential_smoothing/.venv/lib/python3.10/site-packages/statsmodels/tsa/holtwinters/model.py:915: ConvergenceWarning: Optimization failed to converge. Check mle_retvals.\n",
      "  warnings.warn(\n",
      "/workspaces/exponential_smoothing/.venv/lib/python3.10/site-packages/statsmodels/tsa/base/tsa_model.py:834: ValueWarning: No supported index is available. Prediction results will be given with an integer index beginning at `start`.\n",
      "  return get_prediction_index(\n",
      "/workspaces/exponential_smoothing/expo.py:146: FutureWarning: The frame.append method is deprecated and will be removed from pandas in a future version. Use pandas.concat instead.\n",
      "  forecast = forecast.append(fcast,ignore_index=True)\n",
      "/workspaces/exponential_smoothing/.venv/lib/python3.10/site-packages/statsmodels/tsa/base/tsa_model.py:471: ValueWarning: No frequency information was provided, so inferred frequency W-SUN will be used.\n",
      "  self._init_dates(dates, freq)\n",
      "/workspaces/exponential_smoothing/.venv/lib/python3.10/site-packages/statsmodels/tsa/holtwinters/model.py:915: ConvergenceWarning: Optimization failed to converge. Check mle_retvals.\n",
      "  warnings.warn(\n"
     ]
    },
    {
     "name": "stdout",
     "output_type": "stream",
     "text": [
      "Forecasting the following store_number                                 2512.0\n",
      "store_name      Hy-Vee Wine and Spirits / Iowa City\n",
      "city                                      Iowa City\n",
      "county                                      JOHNSON\n",
      "srl_num                                          43\n",
      "Name: 2335, dtype: object ...\n",
      "Forecasting the following store_number                              2513.0\n",
      "store_name      Hy-Vee Food Store #2 / Iowa City\n",
      "city                                   Iowa City\n",
      "county                                   JOHNSON\n",
      "srl_num                                       42\n",
      "Name: 2549, dtype: object ...\n"
     ]
    },
    {
     "name": "stderr",
     "output_type": "stream",
     "text": [
      "/workspaces/exponential_smoothing/expo.py:146: FutureWarning: The frame.append method is deprecated and will be removed from pandas in a future version. Use pandas.concat instead.\n",
      "  forecast = forecast.append(fcast,ignore_index=True)\n",
      "/workspaces/exponential_smoothing/.venv/lib/python3.10/site-packages/statsmodels/tsa/base/tsa_model.py:471: ValueWarning: No frequency information was provided, so inferred frequency W-SUN will be used.\n",
      "  self._init_dates(dates, freq)\n",
      "/workspaces/exponential_smoothing/.venv/lib/python3.10/site-packages/statsmodels/tsa/holtwinters/model.py:915: ConvergenceWarning: Optimization failed to converge. Check mle_retvals.\n",
      "  warnings.warn(\n",
      "/workspaces/exponential_smoothing/expo.py:146: FutureWarning: The frame.append method is deprecated and will be removed from pandas in a future version. Use pandas.concat instead.\n",
      "  forecast = forecast.append(fcast,ignore_index=True)\n",
      "/workspaces/exponential_smoothing/.venv/lib/python3.10/site-packages/statsmodels/tsa/base/tsa_model.py:471: ValueWarning: No frequency information was provided, so inferred frequency W-SUN will be used.\n",
      "  self._init_dates(dates, freq)\n"
     ]
    },
    {
     "name": "stdout",
     "output_type": "stream",
     "text": [
      "Forecasting the following store_number                               2515.0\n",
      "store_name      Hy-Vee Food Store #1 / Mason City\n",
      "city                                   Mason City\n",
      "county                                 CERRO GORD\n",
      "srl_num                                        65\n",
      "Name: 2763, dtype: object ...\n",
      "Forecasting the following store_number                           2517.0\n",
      "store_name      Hy-Vee Food Store #1 / Newton\n",
      "city                                   Newton\n",
      "county                                 JASPER\n",
      "srl_num                                    12\n",
      "Name: 2977, dtype: object ...\n"
     ]
    },
    {
     "name": "stderr",
     "output_type": "stream",
     "text": [
      "/workspaces/exponential_smoothing/.venv/lib/python3.10/site-packages/statsmodels/tsa/holtwinters/model.py:915: ConvergenceWarning: Optimization failed to converge. Check mle_retvals.\n",
      "  warnings.warn(\n",
      "/workspaces/exponential_smoothing/expo.py:146: FutureWarning: The frame.append method is deprecated and will be removed from pandas in a future version. Use pandas.concat instead.\n",
      "  forecast = forecast.append(fcast,ignore_index=True)\n",
      "/workspaces/exponential_smoothing/.venv/lib/python3.10/site-packages/statsmodels/tsa/base/tsa_model.py:471: ValueWarning: A date index has been provided, but it has no associated frequency information and so will be ignored when e.g. forecasting.\n",
      "  self._init_dates(dates, freq)\n",
      "/workspaces/exponential_smoothing/.venv/lib/python3.10/site-packages/statsmodels/tsa/holtwinters/model.py:915: ConvergenceWarning: Optimization failed to converge. Check mle_retvals.\n",
      "  warnings.warn(\n",
      "/workspaces/exponential_smoothing/.venv/lib/python3.10/site-packages/statsmodels/tsa/base/tsa_model.py:834: ValueWarning: No supported index is available. Prediction results will be given with an integer index beginning at `start`.\n",
      "  return get_prediction_index(\n",
      "/workspaces/exponential_smoothing/expo.py:146: FutureWarning: The frame.append method is deprecated and will be removed from pandas in a future version. Use pandas.concat instead.\n",
      "  forecast = forecast.append(fcast,ignore_index=True)\n",
      "/workspaces/exponential_smoothing/.venv/lib/python3.10/site-packages/statsmodels/tsa/base/tsa_model.py:471: ValueWarning: A date index has been provided, but it has no associated frequency information and so will be ignored when e.g. forecasting.\n",
      "  self._init_dates(dates, freq)\n"
     ]
    },
    {
     "name": "stdout",
     "output_type": "stream",
     "text": [
      "Forecasting the following store_number                                2521.0\n",
      "store_name      Hy-Vee Food and Drug / Grand / WDM\n",
      "city                               West Des Moines\n",
      "county                                        POLK\n",
      "srl_num                                         97\n",
      "Name: 3190, dtype: object ...\n",
      "Forecasting the following store_number                                   2522.0\n",
      "store_name      Hy-Vee Wine and Spirits / Spirit Lake\n",
      "city                                      Spirit Lake\n",
      "county                                      DICKINSON\n",
      "srl_num                                            76\n",
      "Name: 3403, dtype: object ...\n"
     ]
    },
    {
     "name": "stderr",
     "output_type": "stream",
     "text": [
      "/workspaces/exponential_smoothing/.venv/lib/python3.10/site-packages/statsmodels/tsa/holtwinters/model.py:915: ConvergenceWarning: Optimization failed to converge. Check mle_retvals.\n",
      "  warnings.warn(\n",
      "/workspaces/exponential_smoothing/.venv/lib/python3.10/site-packages/statsmodels/tsa/base/tsa_model.py:834: ValueWarning: No supported index is available. Prediction results will be given with an integer index beginning at `start`.\n",
      "  return get_prediction_index(\n",
      "/workspaces/exponential_smoothing/expo.py:146: FutureWarning: The frame.append method is deprecated and will be removed from pandas in a future version. Use pandas.concat instead.\n",
      "  forecast = forecast.append(fcast,ignore_index=True)\n",
      "/workspaces/exponential_smoothing/.venv/lib/python3.10/site-packages/statsmodels/tsa/base/tsa_model.py:471: ValueWarning: No frequency information was provided, so inferred frequency W-SUN will be used.\n",
      "  self._init_dates(dates, freq)\n",
      "/workspaces/exponential_smoothing/.venv/lib/python3.10/site-packages/statsmodels/tsa/holtwinters/model.py:915: ConvergenceWarning: Optimization failed to converge. Check mle_retvals.\n",
      "  warnings.warn(\n",
      "/workspaces/exponential_smoothing/expo.py:146: FutureWarning: The frame.append method is deprecated and will be removed from pandas in a future version. Use pandas.concat instead.\n",
      "  forecast = forecast.append(fcast,ignore_index=True)\n",
      "/workspaces/exponential_smoothing/.venv/lib/python3.10/site-packages/statsmodels/tsa/base/tsa_model.py:471: ValueWarning: No frequency information was provided, so inferred frequency W-SUN will be used.\n",
      "  self._init_dates(dates, freq)\n"
     ]
    },
    {
     "name": "stdout",
     "output_type": "stream",
     "text": [
      "Forecasting the following store_number                         2524.0\n",
      "store_name      Hy-Vee Food Store / Dubuque\n",
      "city                                Dubuque\n",
      "county                              DUBUQUE\n",
      "srl_num                                  21\n",
      "Name: 3617, dtype: object ...\n",
      "Forecasting the following store_number                               2527.0\n",
      "store_name      Hy-Vee Food Store #5 / Des Moines\n",
      "city                                   Des Moines\n",
      "county                                       POLK\n",
      "srl_num                                        59\n",
      "Name: 3831, dtype: object ...\n"
     ]
    },
    {
     "name": "stderr",
     "output_type": "stream",
     "text": [
      "/workspaces/exponential_smoothing/.venv/lib/python3.10/site-packages/statsmodels/tsa/holtwinters/model.py:915: ConvergenceWarning: Optimization failed to converge. Check mle_retvals.\n",
      "  warnings.warn(\n",
      "/workspaces/exponential_smoothing/expo.py:146: FutureWarning: The frame.append method is deprecated and will be removed from pandas in a future version. Use pandas.concat instead.\n",
      "  forecast = forecast.append(fcast,ignore_index=True)\n",
      "/workspaces/exponential_smoothing/.venv/lib/python3.10/site-packages/statsmodels/tsa/base/tsa_model.py:471: ValueWarning: No frequency information was provided, so inferred frequency W-SUN will be used.\n",
      "  self._init_dates(dates, freq)\n",
      "/workspaces/exponential_smoothing/.venv/lib/python3.10/site-packages/statsmodels/tsa/holtwinters/model.py:915: ConvergenceWarning: Optimization failed to converge. Check mle_retvals.\n",
      "  warnings.warn(\n",
      "/workspaces/exponential_smoothing/expo.py:146: FutureWarning: The frame.append method is deprecated and will be removed from pandas in a future version. Use pandas.concat instead.\n",
      "  forecast = forecast.append(fcast,ignore_index=True)\n"
     ]
    },
    {
     "name": "stdout",
     "output_type": "stream",
     "text": [
      "Forecasting the following store_number                               2528.0\n",
      "store_name      Hy-Vee Food Store #3 / Des Moines\n",
      "city                                   Des Moines\n",
      "county                                       POLK\n",
      "srl_num                                        58\n",
      "Name: 4045, dtype: object ...\n",
      "Forecasting the following store_number                        2535.0\n",
      "store_name      Hy-Vee Food Store #1 / WDM\n",
      "city                       West Des Moines\n",
      "county                                POLK\n",
      "srl_num                                 94\n",
      "Name: 4259, dtype: object ...\n"
     ]
    },
    {
     "name": "stderr",
     "output_type": "stream",
     "text": [
      "/workspaces/exponential_smoothing/.venv/lib/python3.10/site-packages/statsmodels/tsa/base/tsa_model.py:471: ValueWarning: No frequency information was provided, so inferred frequency W-SUN will be used.\n",
      "  self._init_dates(dates, freq)\n",
      "/workspaces/exponential_smoothing/.venv/lib/python3.10/site-packages/statsmodels/tsa/holtwinters/model.py:915: ConvergenceWarning: Optimization failed to converge. Check mle_retvals.\n",
      "  warnings.warn(\n",
      "/workspaces/exponential_smoothing/expo.py:146: FutureWarning: The frame.append method is deprecated and will be removed from pandas in a future version. Use pandas.concat instead.\n",
      "  forecast = forecast.append(fcast,ignore_index=True)\n",
      "/workspaces/exponential_smoothing/.venv/lib/python3.10/site-packages/statsmodels/tsa/base/tsa_model.py:471: ValueWarning: No frequency information was provided, so inferred frequency W-SUN will be used.\n",
      "  self._init_dates(dates, freq)\n",
      "/workspaces/exponential_smoothing/.venv/lib/python3.10/site-packages/statsmodels/tsa/holtwinters/model.py:915: ConvergenceWarning: Optimization failed to converge. Check mle_retvals.\n",
      "  warnings.warn(\n",
      "/workspaces/exponential_smoothing/expo.py:146: FutureWarning: The frame.append method is deprecated and will be removed from pandas in a future version. Use pandas.concat instead.\n",
      "  forecast = forecast.append(fcast,ignore_index=True)\n",
      "/workspaces/exponential_smoothing/.venv/lib/python3.10/site-packages/statsmodels/tsa/base/tsa_model.py:471: ValueWarning: No frequency information was provided, so inferred frequency W-SUN will be used.\n",
      "  self._init_dates(dates, freq)\n",
      "/workspaces/exponential_smoothing/.venv/lib/python3.10/site-packages/statsmodels/tsa/holtwinters/model.py:915: ConvergenceWarning: Optimization failed to converge. Check mle_retvals.\n",
      "  warnings.warn(\n",
      "/workspaces/exponential_smoothing/expo.py:146: FutureWarning: The frame.append method is deprecated and will be removed from pandas in a future version. Use pandas.concat instead.\n",
      "  forecast = forecast.append(fcast,ignore_index=True)\n",
      "/workspaces/exponential_smoothing/.venv/lib/python3.10/site-packages/statsmodels/tsa/base/tsa_model.py:471: ValueWarning: A date index has been provided, but it has no associated frequency information and so will be ignored when e.g. forecasting.\n",
      "  self._init_dates(dates, freq)\n"
     ]
    },
    {
     "name": "stdout",
     "output_type": "stream",
     "text": [
      "Forecasting the following store_number                    2536.0\n",
      "store_name      HY-VEE / PLEASANT HILL\n",
      "city                     Pleasant Hill\n",
      "county                            Polk\n",
      "srl_num                             87\n",
      "Name: 4473, dtype: object ...\n",
      "Forecasting the following store_number                             2538.0\n",
      "store_name      Hy-Vee Food Store #3 / Waterloo\n",
      "city                                   Waterloo\n",
      "county                               BLACK HAWK\n",
      "srl_num                                      32\n",
      "Name: 4687, dtype: object ...\n"
     ]
    },
    {
     "name": "stderr",
     "output_type": "stream",
     "text": [
      "/workspaces/exponential_smoothing/.venv/lib/python3.10/site-packages/statsmodels/tsa/holtwinters/model.py:915: ConvergenceWarning: Optimization failed to converge. Check mle_retvals.\n",
      "  warnings.warn(\n",
      "/workspaces/exponential_smoothing/.venv/lib/python3.10/site-packages/statsmodels/tsa/base/tsa_model.py:834: ValueWarning: No supported index is available. Prediction results will be given with an integer index beginning at `start`.\n",
      "  return get_prediction_index(\n",
      "/workspaces/exponential_smoothing/expo.py:146: FutureWarning: The frame.append method is deprecated and will be removed from pandas in a future version. Use pandas.concat instead.\n",
      "  forecast = forecast.append(fcast,ignore_index=True)\n",
      "/workspaces/exponential_smoothing/.venv/lib/python3.10/site-packages/statsmodels/tsa/base/tsa_model.py:471: ValueWarning: A date index has been provided, but it has no associated frequency information and so will be ignored when e.g. forecasting.\n",
      "  self._init_dates(dates, freq)\n",
      "/workspaces/exponential_smoothing/.venv/lib/python3.10/site-packages/statsmodels/tsa/holtwinters/model.py:915: ConvergenceWarning: Optimization failed to converge. Check mle_retvals.\n",
      "  warnings.warn(\n",
      "/workspaces/exponential_smoothing/.venv/lib/python3.10/site-packages/statsmodels/tsa/base/tsa_model.py:834: ValueWarning: No supported index is available. Prediction results will be given with an integer index beginning at `start`.\n",
      "  return get_prediction_index(\n",
      "/workspaces/exponential_smoothing/expo.py:146: FutureWarning: The frame.append method is deprecated and will be removed from pandas in a future version. Use pandas.concat instead.\n",
      "  forecast = forecast.append(fcast,ignore_index=True)\n",
      "/workspaces/exponential_smoothing/.venv/lib/python3.10/site-packages/statsmodels/tsa/base/tsa_model.py:471: ValueWarning: A date index has been provided, but it has no associated frequency information and so will be ignored when e.g. forecasting.\n",
      "  self._init_dates(dates, freq)\n"
     ]
    },
    {
     "name": "stdout",
     "output_type": "stream",
     "text": [
      "Forecasting the following store_number                            2539.0\n",
      "store_name      Hy-Vee Food Store / Iowa Falls\n",
      "city                                Iowa Falls\n",
      "county                                  HARDIN\n",
      "srl_num                                     63\n",
      "Name: 4894, dtype: object ...\n",
      "Forecasting the following store_number                            2543.0\n",
      "store_name      Hy-Vee Food Store #1 / Ottumwa\n",
      "city                                   Ottumwa\n",
      "county                                 Wapello\n",
      "srl_num                                     24\n",
      "Name: 5099, dtype: object ...\n"
     ]
    },
    {
     "name": "stderr",
     "output_type": "stream",
     "text": [
      "/workspaces/exponential_smoothing/.venv/lib/python3.10/site-packages/statsmodels/tsa/holtwinters/model.py:915: ConvergenceWarning: Optimization failed to converge. Check mle_retvals.\n",
      "  warnings.warn(\n",
      "/workspaces/exponential_smoothing/.venv/lib/python3.10/site-packages/statsmodels/tsa/base/tsa_model.py:834: ValueWarning: No supported index is available. Prediction results will be given with an integer index beginning at `start`.\n",
      "  return get_prediction_index(\n",
      "/workspaces/exponential_smoothing/expo.py:146: FutureWarning: The frame.append method is deprecated and will be removed from pandas in a future version. Use pandas.concat instead.\n",
      "  forecast = forecast.append(fcast,ignore_index=True)\n",
      "/workspaces/exponential_smoothing/.venv/lib/python3.10/site-packages/statsmodels/tsa/base/tsa_model.py:471: ValueWarning: A date index has been provided, but it has no associated frequency information and so will be ignored when e.g. forecasting.\n",
      "  self._init_dates(dates, freq)\n",
      "/workspaces/exponential_smoothing/.venv/lib/python3.10/site-packages/statsmodels/tsa/holtwinters/model.py:915: ConvergenceWarning: Optimization failed to converge. Check mle_retvals.\n",
      "  warnings.warn(\n",
      "/workspaces/exponential_smoothing/.venv/lib/python3.10/site-packages/statsmodels/tsa/base/tsa_model.py:834: ValueWarning: No supported index is available. Prediction results will be given with an integer index beginning at `start`.\n",
      "  return get_prediction_index(\n",
      "/workspaces/exponential_smoothing/expo.py:146: FutureWarning: The frame.append method is deprecated and will be removed from pandas in a future version. Use pandas.concat instead.\n",
      "  forecast = forecast.append(fcast,ignore_index=True)\n",
      "/workspaces/exponential_smoothing/.venv/lib/python3.10/site-packages/statsmodels/tsa/base/tsa_model.py:471: ValueWarning: No frequency information was provided, so inferred frequency W-SUN will be used.\n",
      "  self._init_dates(dates, freq)\n"
     ]
    },
    {
     "name": "stdout",
     "output_type": "stream",
     "text": [
      "Forecasting the following store_number                              2544.0\n",
      "store_name      Hy-Vee Food Store / Marshalltown\n",
      "city                                Marshalltown\n",
      "county                                  MARSHALL\n",
      "srl_num                                       85\n",
      "Name: 5309, dtype: object ...\n",
      "Forecasting the following store_number                         2548.0\n",
      "store_name      Hy-Vee Food Store / Altoona\n",
      "city                                Altoona\n",
      "county                                 POLK\n",
      "srl_num                                  14\n",
      "Name: 5522, dtype: object ...\n"
     ]
    },
    {
     "name": "stderr",
     "output_type": "stream",
     "text": [
      "/workspaces/exponential_smoothing/.venv/lib/python3.10/site-packages/statsmodels/tsa/holtwinters/model.py:915: ConvergenceWarning: Optimization failed to converge. Check mle_retvals.\n",
      "  warnings.warn(\n",
      "/workspaces/exponential_smoothing/expo.py:146: FutureWarning: The frame.append method is deprecated and will be removed from pandas in a future version. Use pandas.concat instead.\n",
      "  forecast = forecast.append(fcast,ignore_index=True)\n",
      "/workspaces/exponential_smoothing/.venv/lib/python3.10/site-packages/statsmodels/tsa/base/tsa_model.py:471: ValueWarning: A date index has been provided, but it has no associated frequency information and so will be ignored when e.g. forecasting.\n",
      "  self._init_dates(dates, freq)\n"
     ]
    },
    {
     "name": "stdout",
     "output_type": "stream",
     "text": [
      "Forecasting the following store_number                           2549.0\n",
      "store_name      Hy-Vee Food Store / Indianola\n",
      "city                                Indianola\n",
      "county                                 WARREN\n",
      "srl_num                                    39\n",
      "Name: 5736, dtype: object ...\n"
     ]
    },
    {
     "name": "stderr",
     "output_type": "stream",
     "text": [
      "/workspaces/exponential_smoothing/.venv/lib/python3.10/site-packages/statsmodels/tsa/holtwinters/model.py:915: ConvergenceWarning: Optimization failed to converge. Check mle_retvals.\n",
      "  warnings.warn(\n",
      "/workspaces/exponential_smoothing/.venv/lib/python3.10/site-packages/statsmodels/tsa/base/tsa_model.py:834: ValueWarning: No supported index is available. Prediction results will be given with an integer index beginning at `start`.\n",
      "  return get_prediction_index(\n",
      "/workspaces/exponential_smoothing/expo.py:146: FutureWarning: The frame.append method is deprecated and will be removed from pandas in a future version. Use pandas.concat instead.\n",
      "  forecast = forecast.append(fcast,ignore_index=True)\n",
      "/workspaces/exponential_smoothing/.venv/lib/python3.10/site-packages/statsmodels/tsa/base/tsa_model.py:471: ValueWarning: No frequency information was provided, so inferred frequency W-SUN will be used.\n",
      "  self._init_dates(dates, freq)\n",
      "/workspaces/exponential_smoothing/.venv/lib/python3.10/site-packages/statsmodels/tsa/holtwinters/model.py:915: ConvergenceWarning: Optimization failed to converge. Check mle_retvals.\n",
      "  warnings.warn(\n",
      "/workspaces/exponential_smoothing/expo.py:146: FutureWarning: The frame.append method is deprecated and will be removed from pandas in a future version. Use pandas.concat instead.\n",
      "  forecast = forecast.append(fcast,ignore_index=True)\n",
      "/workspaces/exponential_smoothing/.venv/lib/python3.10/site-packages/statsmodels/tsa/base/tsa_model.py:471: ValueWarning: A date index has been provided, but it has no associated frequency information and so will be ignored when e.g. forecasting.\n",
      "  self._init_dates(dates, freq)\n"
     ]
    },
    {
     "name": "stdout",
     "output_type": "stream",
     "text": [
      "Forecasting the following store_number                                 2552.0\n",
      "store_name      Hy-Vee Food Store #3 / Cedar Rapids\n",
      "city                                   Cedar Rapids\n",
      "county                                         LINN\n",
      "srl_num                                          82\n",
      "Name: 5949, dtype: object ...\n",
      "Forecasting the following store_number                        2555.0\n",
      "store_name      Hy-Vee Food Store / Keokuk\n",
      "city                                Keokuk\n",
      "county                                 LEE\n",
      "srl_num                                 10\n",
      "Name: 6163, dtype: object ...\n"
     ]
    },
    {
     "name": "stderr",
     "output_type": "stream",
     "text": [
      "/workspaces/exponential_smoothing/.venv/lib/python3.10/site-packages/statsmodels/tsa/holtwinters/model.py:915: ConvergenceWarning: Optimization failed to converge. Check mle_retvals.\n",
      "  warnings.warn(\n",
      "/workspaces/exponential_smoothing/.venv/lib/python3.10/site-packages/statsmodels/tsa/base/tsa_model.py:834: ValueWarning: No supported index is available. Prediction results will be given with an integer index beginning at `start`.\n",
      "  return get_prediction_index(\n",
      "/workspaces/exponential_smoothing/expo.py:146: FutureWarning: The frame.append method is deprecated and will be removed from pandas in a future version. Use pandas.concat instead.\n",
      "  forecast = forecast.append(fcast,ignore_index=True)\n",
      "/workspaces/exponential_smoothing/.venv/lib/python3.10/site-packages/statsmodels/tsa/base/tsa_model.py:471: ValueWarning: A date index has been provided, but it has no associated frequency information and so will be ignored when e.g. forecasting.\n",
      "  self._init_dates(dates, freq)\n",
      "/workspaces/exponential_smoothing/.venv/lib/python3.10/site-packages/statsmodels/tsa/holtwinters/model.py:915: ConvergenceWarning: Optimization failed to converge. Check mle_retvals.\n",
      "  warnings.warn(\n",
      "/workspaces/exponential_smoothing/.venv/lib/python3.10/site-packages/statsmodels/tsa/base/tsa_model.py:834: ValueWarning: No supported index is available. Prediction results will be given with an integer index beginning at `start`.\n",
      "  return get_prediction_index(\n",
      "/workspaces/exponential_smoothing/expo.py:146: FutureWarning: The frame.append method is deprecated and will be removed from pandas in a future version. Use pandas.concat instead.\n",
      "  forecast = forecast.append(fcast,ignore_index=True)\n",
      "/workspaces/exponential_smoothing/.venv/lib/python3.10/site-packages/statsmodels/tsa/base/tsa_model.py:471: ValueWarning: A date index has been provided, but it has no associated frequency information and so will be ignored when e.g. forecasting.\n",
      "  self._init_dates(dates, freq)\n"
     ]
    },
    {
     "name": "stdout",
     "output_type": "stream",
     "text": [
      "Forecasting the following store_number                                2558.0\n",
      "store_name      Hy-Vee Food Store / Mount Pleasant\n",
      "city                                Mount Pleasant\n",
      "county                                       HENRY\n",
      "srl_num                                         92\n",
      "Name: 6371, dtype: object ...\n",
      "Forecasting the following store_number                        2560.0\n",
      "store_name      Hy-Vee Food Store / Marion\n",
      "city                                Marion\n",
      "county                                LINN\n",
      "srl_num                                 11\n",
      "Name: 6579, dtype: object ...\n"
     ]
    },
    {
     "name": "stderr",
     "output_type": "stream",
     "text": [
      "/workspaces/exponential_smoothing/.venv/lib/python3.10/site-packages/statsmodels/tsa/holtwinters/model.py:915: ConvergenceWarning: Optimization failed to converge. Check mle_retvals.\n",
      "  warnings.warn(\n",
      "/workspaces/exponential_smoothing/.venv/lib/python3.10/site-packages/statsmodels/tsa/base/tsa_model.py:834: ValueWarning: No supported index is available. Prediction results will be given with an integer index beginning at `start`.\n",
      "  return get_prediction_index(\n",
      "/workspaces/exponential_smoothing/expo.py:146: FutureWarning: The frame.append method is deprecated and will be removed from pandas in a future version. Use pandas.concat instead.\n",
      "  forecast = forecast.append(fcast,ignore_index=True)\n",
      "/workspaces/exponential_smoothing/.venv/lib/python3.10/site-packages/statsmodels/tsa/base/tsa_model.py:471: ValueWarning: No frequency information was provided, so inferred frequency W-SUN will be used.\n",
      "  self._init_dates(dates, freq)\n",
      "/workspaces/exponential_smoothing/.venv/lib/python3.10/site-packages/statsmodels/tsa/holtwinters/model.py:915: ConvergenceWarning: Optimization failed to converge. Check mle_retvals.\n",
      "  warnings.warn(\n",
      "/workspaces/exponential_smoothing/expo.py:146: FutureWarning: The frame.append method is deprecated and will be removed from pandas in a future version. Use pandas.concat instead.\n",
      "  forecast = forecast.append(fcast,ignore_index=True)\n",
      "/workspaces/exponential_smoothing/.venv/lib/python3.10/site-packages/statsmodels/tsa/base/tsa_model.py:471: ValueWarning: No frequency information was provided, so inferred frequency W-SUN will be used.\n",
      "  self._init_dates(dates, freq)\n"
     ]
    },
    {
     "name": "stdout",
     "output_type": "stream",
     "text": [
      "Forecasting the following store_number                             2561.0\n",
      "store_name      Hy-Vee Food Store / Fleur / DSM\n",
      "city                                 Des Moines\n",
      "county                                     POLK\n",
      "srl_num                                      57\n",
      "Name: 6785, dtype: object ...\n",
      "Forecasting the following store_number                               2565.0\n",
      "store_name      Hy-Vee Food Store #1636 / Spencer\n",
      "city                                      Spencer\n",
      "county                                       CLAY\n",
      "srl_num                                        25\n",
      "Name: 6999, dtype: object ...\n"
     ]
    },
    {
     "name": "stderr",
     "output_type": "stream",
     "text": [
      "/workspaces/exponential_smoothing/.venv/lib/python3.10/site-packages/statsmodels/tsa/holtwinters/model.py:915: ConvergenceWarning: Optimization failed to converge. Check mle_retvals.\n",
      "  warnings.warn(\n",
      "/workspaces/exponential_smoothing/expo.py:146: FutureWarning: The frame.append method is deprecated and will be removed from pandas in a future version. Use pandas.concat instead.\n",
      "  forecast = forecast.append(fcast,ignore_index=True)\n",
      "/workspaces/exponential_smoothing/.venv/lib/python3.10/site-packages/statsmodels/tsa/base/tsa_model.py:471: ValueWarning: No frequency information was provided, so inferred frequency W-SUN will be used.\n",
      "  self._init_dates(dates, freq)\n",
      "/workspaces/exponential_smoothing/.venv/lib/python3.10/site-packages/statsmodels/tsa/holtwinters/model.py:915: ConvergenceWarning: Optimization failed to converge. Check mle_retvals.\n",
      "  warnings.warn(\n",
      "/workspaces/exponential_smoothing/expo.py:146: FutureWarning: The frame.append method is deprecated and will be removed from pandas in a future version. Use pandas.concat instead.\n",
      "  forecast = forecast.append(fcast,ignore_index=True)\n",
      "/workspaces/exponential_smoothing/.venv/lib/python3.10/site-packages/statsmodels/tsa/base/tsa_model.py:471: ValueWarning: No frequency information was provided, so inferred frequency W-SUN will be used.\n",
      "  self._init_dates(dates, freq)\n"
     ]
    },
    {
     "name": "stdout",
     "output_type": "stream",
     "text": [
      "Forecasting the following store_number                             2571.0\n",
      "store_name      Hy-Vee Food Store #2 / Waterloo\n",
      "city                                   Waterloo\n",
      "county                               BLACK HAWK\n",
      "srl_num                                      31\n",
      "Name: 7185, dtype: object ...\n",
      "Forecasting the following store_number                             2572.0\n",
      "store_name      Hy-Vee Food Store / Cedar Falls\n",
      "city                                Cedar Falls\n",
      "county                               BLACK HAWK\n",
      "srl_num                                      75\n",
      "Name: 7399, dtype: object ...\n"
     ]
    },
    {
     "name": "stderr",
     "output_type": "stream",
     "text": [
      "/workspaces/exponential_smoothing/.venv/lib/python3.10/site-packages/statsmodels/tsa/holtwinters/model.py:915: ConvergenceWarning: Optimization failed to converge. Check mle_retvals.\n",
      "  warnings.warn(\n",
      "/workspaces/exponential_smoothing/expo.py:146: FutureWarning: The frame.append method is deprecated and will be removed from pandas in a future version. Use pandas.concat instead.\n",
      "  forecast = forecast.append(fcast,ignore_index=True)\n",
      "/workspaces/exponential_smoothing/.venv/lib/python3.10/site-packages/statsmodels/tsa/base/tsa_model.py:471: ValueWarning: A date index has been provided, but it has no associated frequency information and so will be ignored when e.g. forecasting.\n",
      "  self._init_dates(dates, freq)\n",
      "/workspaces/exponential_smoothing/.venv/lib/python3.10/site-packages/statsmodels/tsa/holtwinters/model.py:915: ConvergenceWarning: Optimization failed to converge. Check mle_retvals.\n",
      "  warnings.warn(\n",
      "/workspaces/exponential_smoothing/.venv/lib/python3.10/site-packages/statsmodels/tsa/base/tsa_model.py:834: ValueWarning: No supported index is available. Prediction results will be given with an integer index beginning at `start`.\n",
      "  return get_prediction_index(\n",
      "/workspaces/exponential_smoothing/expo.py:146: FutureWarning: The frame.append method is deprecated and will be removed from pandas in a future version. Use pandas.concat instead.\n",
      "  forecast = forecast.append(fcast,ignore_index=True)\n",
      "/workspaces/exponential_smoothing/.venv/lib/python3.10/site-packages/statsmodels/tsa/base/tsa_model.py:471: ValueWarning: A date index has been provided, but it has no associated frequency information and so will be ignored when e.g. forecasting.\n",
      "  self._init_dates(dates, freq)\n"
     ]
    },
    {
     "name": "stdout",
     "output_type": "stream",
     "text": [
      "Forecasting the following store_number                           2573.0\n",
      "store_name      Hy-Vee Food Store / Muscatine\n",
      "city                                Muscatine\n",
      "county                              MUSCATINE\n",
      "srl_num                                    44\n",
      "Name: 7613, dtype: object ...\n",
      "Forecasting the following store_number                                  2576.0\n",
      "store_name      Hy-Vee Wine and Spirits / Storm Lake\n",
      "city                                      Storm Lake\n",
      "county                                    BUENA VIST\n",
      "srl_num                                           72\n",
      "Name: 7820, dtype: object ...\n"
     ]
    },
    {
     "name": "stderr",
     "output_type": "stream",
     "text": [
      "/workspaces/exponential_smoothing/.venv/lib/python3.10/site-packages/statsmodels/tsa/holtwinters/model.py:915: ConvergenceWarning: Optimization failed to converge. Check mle_retvals.\n",
      "  warnings.warn(\n",
      "/workspaces/exponential_smoothing/.venv/lib/python3.10/site-packages/statsmodels/tsa/base/tsa_model.py:834: ValueWarning: No supported index is available. Prediction results will be given with an integer index beginning at `start`.\n",
      "  return get_prediction_index(\n",
      "/workspaces/exponential_smoothing/expo.py:146: FutureWarning: The frame.append method is deprecated and will be removed from pandas in a future version. Use pandas.concat instead.\n",
      "  forecast = forecast.append(fcast,ignore_index=True)\n",
      "/workspaces/exponential_smoothing/.venv/lib/python3.10/site-packages/statsmodels/tsa/base/tsa_model.py:471: ValueWarning: A date index has been provided, but it has no associated frequency information and so will be ignored when e.g. forecasting.\n",
      "  self._init_dates(dates, freq)\n",
      "/workspaces/exponential_smoothing/.venv/lib/python3.10/site-packages/statsmodels/tsa/holtwinters/model.py:915: ConvergenceWarning: Optimization failed to converge. Check mle_retvals.\n",
      "  warnings.warn(\n",
      "/workspaces/exponential_smoothing/.venv/lib/python3.10/site-packages/statsmodels/tsa/base/tsa_model.py:834: ValueWarning: No supported index is available. Prediction results will be given with an integer index beginning at `start`.\n",
      "  return get_prediction_index(\n",
      "/workspaces/exponential_smoothing/expo.py:146: FutureWarning: The frame.append method is deprecated and will be removed from pandas in a future version. Use pandas.concat instead.\n",
      "  forecast = forecast.append(fcast,ignore_index=True)\n",
      "/workspaces/exponential_smoothing/.venv/lib/python3.10/site-packages/statsmodels/tsa/base/tsa_model.py:471: ValueWarning: A date index has been provided, but it has no associated frequency information and so will be ignored when e.g. forecasting.\n",
      "  self._init_dates(dates, freq)\n"
     ]
    },
    {
     "name": "stdout",
     "output_type": "stream",
     "text": [
      "Forecasting the following store_number                               2582.0\n",
      "store_name      Hy-Vee #2 Food Store / Mason City\n",
      "city                                   Mason City\n",
      "county                                 CERRO GORD\n",
      "srl_num                                        64\n",
      "Name: 8033, dtype: object ...\n",
      "Forecasting the following store_number                          2587.0\n",
      "store_name      Hy-Vee Food Store / Johnston\n",
      "city                                Johnston\n",
      "county                                  POLK\n",
      "srl_num                                   28\n",
      "Name: 8244, dtype: object ...\n"
     ]
    },
    {
     "name": "stderr",
     "output_type": "stream",
     "text": [
      "/workspaces/exponential_smoothing/.venv/lib/python3.10/site-packages/statsmodels/tsa/holtwinters/model.py:915: ConvergenceWarning: Optimization failed to converge. Check mle_retvals.\n",
      "  warnings.warn(\n",
      "/workspaces/exponential_smoothing/.venv/lib/python3.10/site-packages/statsmodels/tsa/base/tsa_model.py:834: ValueWarning: No supported index is available. Prediction results will be given with an integer index beginning at `start`.\n",
      "  return get_prediction_index(\n",
      "/workspaces/exponential_smoothing/expo.py:146: FutureWarning: The frame.append method is deprecated and will be removed from pandas in a future version. Use pandas.concat instead.\n",
      "  forecast = forecast.append(fcast,ignore_index=True)\n",
      "/workspaces/exponential_smoothing/.venv/lib/python3.10/site-packages/statsmodels/tsa/base/tsa_model.py:471: ValueWarning: No frequency information was provided, so inferred frequency W-SUN will be used.\n",
      "  self._init_dates(dates, freq)\n",
      "/workspaces/exponential_smoothing/.venv/lib/python3.10/site-packages/statsmodels/tsa/holtwinters/model.py:915: ConvergenceWarning: Optimization failed to converge. Check mle_retvals.\n",
      "  warnings.warn(\n",
      "/workspaces/exponential_smoothing/expo.py:146: FutureWarning: The frame.append method is deprecated and will be removed from pandas in a future version. Use pandas.concat instead.\n",
      "  forecast = forecast.append(fcast,ignore_index=True)\n",
      "/workspaces/exponential_smoothing/.venv/lib/python3.10/site-packages/statsmodels/tsa/base/tsa_model.py:471: ValueWarning: A date index has been provided, but it has no associated frequency information and so will be ignored when e.g. forecasting.\n",
      "  self._init_dates(dates, freq)\n"
     ]
    },
    {
     "name": "stdout",
     "output_type": "stream",
     "text": [
      "Forecasting the following store_number                                    2588.0\n",
      "store_name      Hy-Vee Food and Drug #6 / Cedar Rapids\n",
      "city                                      Cedar Rapids\n",
      "county                                            LINN\n",
      "srl_num                                             84\n",
      "Name: 8456, dtype: object ...\n",
      "Forecasting the following store_number                                 2590.0\n",
      "store_name      Hy-Vee Food Store #5 / Cedar Rapids\n",
      "city                                   Cedar Rapids\n",
      "county                                         LINN\n",
      "srl_num                                          83\n",
      "Name: 8670, dtype: object ...\n"
     ]
    },
    {
     "name": "stderr",
     "output_type": "stream",
     "text": [
      "/workspaces/exponential_smoothing/.venv/lib/python3.10/site-packages/statsmodels/tsa/holtwinters/model.py:915: ConvergenceWarning: Optimization failed to converge. Check mle_retvals.\n",
      "  warnings.warn(\n",
      "/workspaces/exponential_smoothing/.venv/lib/python3.10/site-packages/statsmodels/tsa/base/tsa_model.py:834: ValueWarning: No supported index is available. Prediction results will be given with an integer index beginning at `start`.\n",
      "  return get_prediction_index(\n",
      "/workspaces/exponential_smoothing/expo.py:146: FutureWarning: The frame.append method is deprecated and will be removed from pandas in a future version. Use pandas.concat instead.\n",
      "  forecast = forecast.append(fcast,ignore_index=True)\n",
      "/workspaces/exponential_smoothing/.venv/lib/python3.10/site-packages/statsmodels/tsa/base/tsa_model.py:471: ValueWarning: A date index has been provided, but it has no associated frequency information and so will be ignored when e.g. forecasting.\n",
      "  self._init_dates(dates, freq)\n",
      "/workspaces/exponential_smoothing/.venv/lib/python3.10/site-packages/statsmodels/tsa/holtwinters/model.py:915: ConvergenceWarning: Optimization failed to converge. Check mle_retvals.\n",
      "  warnings.warn(\n",
      "/workspaces/exponential_smoothing/.venv/lib/python3.10/site-packages/statsmodels/tsa/base/tsa_model.py:834: ValueWarning: No supported index is available. Prediction results will be given with an integer index beginning at `start`.\n",
      "  return get_prediction_index(\n",
      "/workspaces/exponential_smoothing/expo.py:146: FutureWarning: The frame.append method is deprecated and will be removed from pandas in a future version. Use pandas.concat instead.\n",
      "  forecast = forecast.append(fcast,ignore_index=True)\n",
      "/workspaces/exponential_smoothing/.venv/lib/python3.10/site-packages/statsmodels/tsa/base/tsa_model.py:471: ValueWarning: A date index has been provided, but it has no associated frequency information and so will be ignored when e.g. forecasting.\n",
      "  self._init_dates(dates, freq)\n"
     ]
    },
    {
     "name": "stdout",
     "output_type": "stream",
     "text": [
      "Forecasting the following store_number                                2591.0\n",
      "store_name      Hy-Vee Wine and Spirits / Atlantic\n",
      "city                                      Atlantic\n",
      "county                                        CASS\n",
      "srl_num                                         27\n",
      "Name: 8883, dtype: object ...\n",
      "Forecasting the following store_number                         2593.0\n",
      "store_name      Hy-Vee Food Store / Carroll\n",
      "city                                Carroll\n",
      "county                              CARROLL\n",
      "srl_num                                  15\n",
      "Name: 9087, dtype: object ...\n"
     ]
    },
    {
     "name": "stderr",
     "output_type": "stream",
     "text": [
      "/workspaces/exponential_smoothing/.venv/lib/python3.10/site-packages/statsmodels/tsa/holtwinters/model.py:915: ConvergenceWarning: Optimization failed to converge. Check mle_retvals.\n",
      "  warnings.warn(\n",
      "/workspaces/exponential_smoothing/.venv/lib/python3.10/site-packages/statsmodels/tsa/base/tsa_model.py:834: ValueWarning: No supported index is available. Prediction results will be given with an integer index beginning at `start`.\n",
      "  return get_prediction_index(\n",
      "/workspaces/exponential_smoothing/expo.py:146: FutureWarning: The frame.append method is deprecated and will be removed from pandas in a future version. Use pandas.concat instead.\n",
      "  forecast = forecast.append(fcast,ignore_index=True)\n",
      "/workspaces/exponential_smoothing/.venv/lib/python3.10/site-packages/statsmodels/tsa/base/tsa_model.py:471: ValueWarning: No frequency information was provided, so inferred frequency W-SUN will be used.\n",
      "  self._init_dates(dates, freq)\n",
      "/workspaces/exponential_smoothing/.venv/lib/python3.10/site-packages/statsmodels/tsa/holtwinters/model.py:915: ConvergenceWarning: Optimization failed to converge. Check mle_retvals.\n",
      "  warnings.warn(\n",
      "/workspaces/exponential_smoothing/expo.py:146: FutureWarning: The frame.append method is deprecated and will be removed from pandas in a future version. Use pandas.concat instead.\n",
      "  forecast = forecast.append(fcast,ignore_index=True)\n",
      "/workspaces/exponential_smoothing/.venv/lib/python3.10/site-packages/statsmodels/tsa/base/tsa_model.py:471: ValueWarning: A date index has been provided, but it has no associated frequency information and so will be ignored when e.g. forecasting.\n",
      "  self._init_dates(dates, freq)\n"
     ]
    },
    {
     "name": "stdout",
     "output_type": "stream",
     "text": [
      "Forecasting the following store_number                            2594.0\n",
      "store_name      Hy-Vee Food Store / Sioux City\n",
      "city                                Sioux City\n",
      "county                                WOODBURY\n",
      "srl_num                                     69\n",
      "Name: 9299, dtype: object ...\n",
      "Forecasting the following store_number                               2595.0\n",
      "store_name      Hy-Vee Wine and Spirits / Denison\n",
      "city                                      Denison\n",
      "county                                   CRAWFORD\n",
      "srl_num                                        17\n",
      "Name: 9513, dtype: object ...\n"
     ]
    },
    {
     "name": "stderr",
     "output_type": "stream",
     "text": [
      "/workspaces/exponential_smoothing/.venv/lib/python3.10/site-packages/statsmodels/tsa/holtwinters/model.py:915: ConvergenceWarning: Optimization failed to converge. Check mle_retvals.\n",
      "  warnings.warn(\n",
      "/workspaces/exponential_smoothing/.venv/lib/python3.10/site-packages/statsmodels/tsa/base/tsa_model.py:834: ValueWarning: No supported index is available. Prediction results will be given with an integer index beginning at `start`.\n",
      "  return get_prediction_index(\n",
      "/workspaces/exponential_smoothing/expo.py:146: FutureWarning: The frame.append method is deprecated and will be removed from pandas in a future version. Use pandas.concat instead.\n",
      "  forecast = forecast.append(fcast,ignore_index=True)\n",
      "/workspaces/exponential_smoothing/.venv/lib/python3.10/site-packages/statsmodels/tsa/base/tsa_model.py:471: ValueWarning: A date index has been provided, but it has no associated frequency information and so will be ignored when e.g. forecasting.\n",
      "  self._init_dates(dates, freq)\n",
      "/workspaces/exponential_smoothing/.venv/lib/python3.10/site-packages/statsmodels/tsa/holtwinters/model.py:915: ConvergenceWarning: Optimization failed to converge. Check mle_retvals.\n",
      "  warnings.warn(\n",
      "/workspaces/exponential_smoothing/.venv/lib/python3.10/site-packages/statsmodels/tsa/base/tsa_model.py:834: ValueWarning: No supported index is available. Prediction results will be given with an integer index beginning at `start`.\n",
      "  return get_prediction_index(\n",
      "/workspaces/exponential_smoothing/expo.py:146: FutureWarning: The frame.append method is deprecated and will be removed from pandas in a future version. Use pandas.concat instead.\n",
      "  forecast = forecast.append(fcast,ignore_index=True)\n",
      "/workspaces/exponential_smoothing/.venv/lib/python3.10/site-packages/statsmodels/tsa/base/tsa_model.py:471: ValueWarning: A date index has been provided, but it has no associated frequency information and so will be ignored when e.g. forecasting.\n",
      "  self._init_dates(dates, freq)\n"
     ]
    },
    {
     "name": "stdout",
     "output_type": "stream",
     "text": [
      "Forecasting the following store_number                                  2603.0\n",
      "store_name      Hy-Vee Wine and Spirits / Bettendorf\n",
      "city                                      Bettendorf\n",
      "county                                         SCOTT\n",
      "srl_num                                           48\n",
      "Name: 9726, dtype: object ...\n",
      "Forecasting the following store_number                                2605.0\n",
      "store_name      Hy-Vee Drugstore #5 / Cedar Rapids\n",
      "city                                  Cedar Rapids\n",
      "county                                        LINN\n",
      "srl_num                                         80\n",
      "Name: 9939, dtype: object ...\n"
     ]
    },
    {
     "name": "stderr",
     "output_type": "stream",
     "text": [
      "/workspaces/exponential_smoothing/.venv/lib/python3.10/site-packages/statsmodels/tsa/holtwinters/model.py:915: ConvergenceWarning: Optimization failed to converge. Check mle_retvals.\n",
      "  warnings.warn(\n",
      "/workspaces/exponential_smoothing/.venv/lib/python3.10/site-packages/statsmodels/tsa/base/tsa_model.py:834: ValueWarning: No supported index is available. Prediction results will be given with an integer index beginning at `start`.\n",
      "  return get_prediction_index(\n",
      "/workspaces/exponential_smoothing/expo.py:146: FutureWarning: The frame.append method is deprecated and will be removed from pandas in a future version. Use pandas.concat instead.\n",
      "  forecast = forecast.append(fcast,ignore_index=True)\n",
      "/workspaces/exponential_smoothing/.venv/lib/python3.10/site-packages/statsmodels/tsa/base/tsa_model.py:471: ValueWarning: A date index has been provided, but it has no associated frequency information and so will be ignored when e.g. forecasting.\n",
      "  self._init_dates(dates, freq)\n",
      "/workspaces/exponential_smoothing/.venv/lib/python3.10/site-packages/statsmodels/tsa/holtwinters/model.py:915: ConvergenceWarning: Optimization failed to converge. Check mle_retvals.\n",
      "  warnings.warn(\n",
      "/workspaces/exponential_smoothing/.venv/lib/python3.10/site-packages/statsmodels/tsa/base/tsa_model.py:834: ValueWarning: No supported index is available. Prediction results will be given with an integer index beginning at `start`.\n",
      "  return get_prediction_index(\n",
      "/workspaces/exponential_smoothing/expo.py:146: FutureWarning: The frame.append method is deprecated and will be removed from pandas in a future version. Use pandas.concat instead.\n",
      "  forecast = forecast.append(fcast,ignore_index=True)\n",
      "/workspaces/exponential_smoothing/.venv/lib/python3.10/site-packages/statsmodels/tsa/base/tsa_model.py:471: ValueWarning: A date index has been provided, but it has no associated frequency information and so will be ignored when e.g. forecasting.\n",
      "  self._init_dates(dates, freq)\n"
     ]
    },
    {
     "name": "stdout",
     "output_type": "stream",
     "text": [
      "Forecasting the following store_number                                   2613.0\n",
      "store_name      Hy-Vee Food Store #1 / Council Bluffs\n",
      "city                                   Council Bluffs\n",
      "county                                     POTTAWATTA\n",
      "srl_num                                            90\n",
      "Name: 10152, dtype: object ...\n",
      "Forecasting the following store_number                                    2614.0\n",
      "store_name      Hy-Vee #3 Food & Drugstore / Davenport\n",
      "city                                         Davenport\n",
      "county                                           SCOTT\n",
      "srl_num                                             38\n",
      "Name: 10361, dtype: object ...\n"
     ]
    },
    {
     "name": "stderr",
     "output_type": "stream",
     "text": [
      "/workspaces/exponential_smoothing/.venv/lib/python3.10/site-packages/statsmodels/tsa/holtwinters/model.py:915: ConvergenceWarning: Optimization failed to converge. Check mle_retvals.\n",
      "  warnings.warn(\n",
      "/workspaces/exponential_smoothing/.venv/lib/python3.10/site-packages/statsmodels/tsa/base/tsa_model.py:834: ValueWarning: No supported index is available. Prediction results will be given with an integer index beginning at `start`.\n",
      "  return get_prediction_index(\n",
      "/workspaces/exponential_smoothing/expo.py:146: FutureWarning: The frame.append method is deprecated and will be removed from pandas in a future version. Use pandas.concat instead.\n",
      "  forecast = forecast.append(fcast,ignore_index=True)\n",
      "/workspaces/exponential_smoothing/.venv/lib/python3.10/site-packages/statsmodels/tsa/base/tsa_model.py:471: ValueWarning: A date index has been provided, but it has no associated frequency information and so will be ignored when e.g. forecasting.\n",
      "  self._init_dates(dates, freq)\n",
      "/workspaces/exponential_smoothing/.venv/lib/python3.10/site-packages/statsmodels/tsa/holtwinters/model.py:915: ConvergenceWarning: Optimization failed to converge. Check mle_retvals.\n",
      "  warnings.warn(\n",
      "/workspaces/exponential_smoothing/.venv/lib/python3.10/site-packages/statsmodels/tsa/base/tsa_model.py:834: ValueWarning: No supported index is available. Prediction results will be given with an integer index beginning at `start`.\n",
      "  return get_prediction_index(\n",
      "/workspaces/exponential_smoothing/expo.py:146: FutureWarning: The frame.append method is deprecated and will be removed from pandas in a future version. Use pandas.concat instead.\n",
      "  forecast = forecast.append(fcast,ignore_index=True)\n",
      "/workspaces/exponential_smoothing/.venv/lib/python3.10/site-packages/statsmodels/tsa/base/tsa_model.py:471: ValueWarning: No frequency information was provided, so inferred frequency W-SUN will be used.\n",
      "  self._init_dates(dates, freq)\n"
     ]
    },
    {
     "name": "stdout",
     "output_type": "stream",
     "text": [
      "Forecasting the following store_number                            2616.0\n",
      "store_name      Hy-Vee Food and Drug / Clinton\n",
      "city                                   Clinton\n",
      "county                                 CLINTON\n",
      "srl_num                                     16\n",
      "Name: 10574, dtype: object ...\n",
      "Forecasting the following store_number                           2619.0\n",
      "store_name      Hy-Vee Wine and Spirits / WDM\n",
      "city                          West Des Moines\n",
      "county                                   POLK\n",
      "srl_num                                    96\n",
      "Name: 10787, dtype: object ...\n"
     ]
    },
    {
     "name": "stderr",
     "output_type": "stream",
     "text": [
      "/workspaces/exponential_smoothing/.venv/lib/python3.10/site-packages/statsmodels/tsa/holtwinters/model.py:915: ConvergenceWarning: Optimization failed to converge. Check mle_retvals.\n",
      "  warnings.warn(\n",
      "/workspaces/exponential_smoothing/expo.py:146: FutureWarning: The frame.append method is deprecated and will be removed from pandas in a future version. Use pandas.concat instead.\n",
      "  forecast = forecast.append(fcast,ignore_index=True)\n",
      "/workspaces/exponential_smoothing/.venv/lib/python3.10/site-packages/statsmodels/tsa/base/tsa_model.py:471: ValueWarning: A date index has been provided, but it has no associated frequency information and so will be ignored when e.g. forecasting.\n",
      "  self._init_dates(dates, freq)\n",
      "/workspaces/exponential_smoothing/.venv/lib/python3.10/site-packages/statsmodels/tsa/holtwinters/model.py:915: ConvergenceWarning: Optimization failed to converge. Check mle_retvals.\n",
      "  warnings.warn(\n",
      "/workspaces/exponential_smoothing/.venv/lib/python3.10/site-packages/statsmodels/tsa/base/tsa_model.py:834: ValueWarning: No supported index is available. Prediction results will be given with an integer index beginning at `start`.\n",
      "  return get_prediction_index(\n",
      "/workspaces/exponential_smoothing/expo.py:146: FutureWarning: The frame.append method is deprecated and will be removed from pandas in a future version. Use pandas.concat instead.\n",
      "  forecast = forecast.append(fcast,ignore_index=True)\n",
      "/workspaces/exponential_smoothing/.venv/lib/python3.10/site-packages/statsmodels/tsa/base/tsa_model.py:471: ValueWarning: No frequency information was provided, so inferred frequency W-SUN will be used.\n",
      "  self._init_dates(dates, freq)\n"
     ]
    },
    {
     "name": "stdout",
     "output_type": "stream",
     "text": [
      "Forecasting the following store_number                      2620.0\n",
      "store_name      Hy-Vee / Windsor Heights\n",
      "city                     Windsor Heights\n",
      "county                              Polk\n",
      "srl_num                               98\n",
      "Name: 11001, dtype: object ...\n",
      "Forecasting the following store_number                               2621.0\n",
      "store_name      Hy-Vee Food Store #3 / Sioux City\n",
      "city                                   Sioux City\n",
      "county                                   WOODBURY\n",
      "srl_num                                        70\n",
      "Name: 11212, dtype: object ...\n"
     ]
    },
    {
     "name": "stderr",
     "output_type": "stream",
     "text": [
      "/workspaces/exponential_smoothing/.venv/lib/python3.10/site-packages/statsmodels/tsa/holtwinters/model.py:915: ConvergenceWarning: Optimization failed to converge. Check mle_retvals.\n",
      "  warnings.warn(\n",
      "/workspaces/exponential_smoothing/expo.py:146: FutureWarning: The frame.append method is deprecated and will be removed from pandas in a future version. Use pandas.concat instead.\n",
      "  forecast = forecast.append(fcast,ignore_index=True)\n",
      "/workspaces/exponential_smoothing/.venv/lib/python3.10/site-packages/statsmodels/tsa/base/tsa_model.py:471: ValueWarning: A date index has been provided, but it has no associated frequency information and so will be ignored when e.g. forecasting.\n",
      "  self._init_dates(dates, freq)\n",
      "/workspaces/exponential_smoothing/.venv/lib/python3.10/site-packages/statsmodels/tsa/holtwinters/model.py:915: ConvergenceWarning: Optimization failed to converge. Check mle_retvals.\n",
      "  warnings.warn(\n",
      "/workspaces/exponential_smoothing/.venv/lib/python3.10/site-packages/statsmodels/tsa/base/tsa_model.py:834: ValueWarning: No supported index is available. Prediction results will be given with an integer index beginning at `start`.\n",
      "  return get_prediction_index(\n",
      "/workspaces/exponential_smoothing/expo.py:146: FutureWarning: The frame.append method is deprecated and will be removed from pandas in a future version. Use pandas.concat instead.\n",
      "  forecast = forecast.append(fcast,ignore_index=True)\n",
      "/workspaces/exponential_smoothing/.venv/lib/python3.10/site-packages/statsmodels/tsa/base/tsa_model.py:471: ValueWarning: A date index has been provided, but it has no associated frequency information and so will be ignored when e.g. forecasting.\n",
      "  self._init_dates(dates, freq)\n"
     ]
    },
    {
     "name": "stdout",
     "output_type": "stream",
     "text": [
      "Forecasting the following store_number                           2622.0\n",
      "store_name      Hy-Vee Food Store / Iowa City\n",
      "city                                Iowa City\n",
      "county                                JOHNSON\n",
      "srl_num                                    41\n",
      "Name: 11426, dtype: object ...\n",
      "Forecasting the following store_number                               2623.0\n",
      "store_name      Hy-Vee Food Store #4 / Sioux City\n",
      "city                                   Sioux City\n",
      "county                                   WOODBURY\n",
      "srl_num                                        71\n",
      "Name: 11639, dtype: object ...\n"
     ]
    },
    {
     "name": "stderr",
     "output_type": "stream",
     "text": [
      "/workspaces/exponential_smoothing/.venv/lib/python3.10/site-packages/statsmodels/tsa/holtwinters/model.py:915: ConvergenceWarning: Optimization failed to converge. Check mle_retvals.\n",
      "  warnings.warn(\n",
      "/workspaces/exponential_smoothing/.venv/lib/python3.10/site-packages/statsmodels/tsa/base/tsa_model.py:834: ValueWarning: No supported index is available. Prediction results will be given with an integer index beginning at `start`.\n",
      "  return get_prediction_index(\n",
      "/workspaces/exponential_smoothing/expo.py:146: FutureWarning: The frame.append method is deprecated and will be removed from pandas in a future version. Use pandas.concat instead.\n",
      "  forecast = forecast.append(fcast,ignore_index=True)\n",
      "/workspaces/exponential_smoothing/.venv/lib/python3.10/site-packages/statsmodels/tsa/base/tsa_model.py:471: ValueWarning: A date index has been provided, but it has no associated frequency information and so will be ignored when e.g. forecasting.\n",
      "  self._init_dates(dates, freq)\n",
      "/workspaces/exponential_smoothing/.venv/lib/python3.10/site-packages/statsmodels/tsa/holtwinters/model.py:915: ConvergenceWarning: Optimization failed to converge. Check mle_retvals.\n",
      "  warnings.warn(\n",
      "/workspaces/exponential_smoothing/.venv/lib/python3.10/site-packages/statsmodels/tsa/base/tsa_model.py:834: ValueWarning: No supported index is available. Prediction results will be given with an integer index beginning at `start`.\n",
      "  return get_prediction_index(\n",
      "/workspaces/exponential_smoothing/expo.py:146: FutureWarning: The frame.append method is deprecated and will be removed from pandas in a future version. Use pandas.concat instead.\n",
      "  forecast = forecast.append(fcast,ignore_index=True)\n",
      "/workspaces/exponential_smoothing/.venv/lib/python3.10/site-packages/statsmodels/tsa/base/tsa_model.py:471: ValueWarning: No frequency information was provided, so inferred frequency W-SUN will be used.\n",
      "  self._init_dates(dates, freq)\n"
     ]
    },
    {
     "name": "stdout",
     "output_type": "stream",
     "text": [
      "Forecasting the following store_number                 2624.0\n",
      "store_name      Hy-Vee #2 / Dubuque\n",
      "city                        Dubuque\n",
      "county                      DUBUQUE\n",
      "srl_num                          18\n",
      "Name: 11852, dtype: object ...\n",
      "Forecasting the following store_number                                  2625.0\n",
      "store_name      Hy-Vee Wine & Spirits #2 / Davenport\n",
      "city                                       Davenport\n",
      "county                                         SCOTT\n",
      "srl_num                                           37\n",
      "Name: 12063, dtype: object ...\n"
     ]
    },
    {
     "name": "stderr",
     "output_type": "stream",
     "text": [
      "/workspaces/exponential_smoothing/.venv/lib/python3.10/site-packages/statsmodels/tsa/holtwinters/model.py:915: ConvergenceWarning: Optimization failed to converge. Check mle_retvals.\n",
      "  warnings.warn(\n",
      "/workspaces/exponential_smoothing/expo.py:146: FutureWarning: The frame.append method is deprecated and will be removed from pandas in a future version. Use pandas.concat instead.\n",
      "  forecast = forecast.append(fcast,ignore_index=True)\n",
      "/workspaces/exponential_smoothing/.venv/lib/python3.10/site-packages/statsmodels/tsa/base/tsa_model.py:471: ValueWarning: A date index has been provided, but it has no associated frequency information and so will be ignored when e.g. forecasting.\n",
      "  self._init_dates(dates, freq)\n",
      "/workspaces/exponential_smoothing/.venv/lib/python3.10/site-packages/statsmodels/tsa/holtwinters/model.py:915: ConvergenceWarning: Optimization failed to converge. Check mle_retvals.\n",
      "  warnings.warn(\n",
      "/workspaces/exponential_smoothing/.venv/lib/python3.10/site-packages/statsmodels/tsa/base/tsa_model.py:834: ValueWarning: No supported index is available. Prediction results will be given with an integer index beginning at `start`.\n",
      "  return get_prediction_index(\n",
      "/workspaces/exponential_smoothing/expo.py:146: FutureWarning: The frame.append method is deprecated and will be removed from pandas in a future version. Use pandas.concat instead.\n",
      "  forecast = forecast.append(fcast,ignore_index=True)\n",
      "/workspaces/exponential_smoothing/.venv/lib/python3.10/site-packages/statsmodels/tsa/base/tsa_model.py:471: ValueWarning: A date index has been provided, but it has no associated frequency information and so will be ignored when e.g. forecasting.\n",
      "  self._init_dates(dates, freq)\n"
     ]
    },
    {
     "name": "stdout",
     "output_type": "stream",
     "text": [
      "Forecasting the following store_number                                 2626.0\n",
      "store_name      Hy-Vee Drugstore / University / DSM\n",
      "city                                     Des Moines\n",
      "county                                         POLK\n",
      "srl_num                                          61\n",
      "Name: 12277, dtype: object ...\n",
      "Forecasting the following store_number                                   2629.0\n",
      "store_name      Hy-Vee Food Store #2 / Council Bluffs\n",
      "city                                   Council Bluffs\n",
      "county                                     POTTAWATTA\n",
      "srl_num                                            91\n",
      "Name: 12485, dtype: object ...\n"
     ]
    },
    {
     "name": "stderr",
     "output_type": "stream",
     "text": [
      "/workspaces/exponential_smoothing/.venv/lib/python3.10/site-packages/statsmodels/tsa/holtwinters/model.py:915: ConvergenceWarning: Optimization failed to converge. Check mle_retvals.\n",
      "  warnings.warn(\n",
      "/workspaces/exponential_smoothing/.venv/lib/python3.10/site-packages/statsmodels/tsa/base/tsa_model.py:834: ValueWarning: No supported index is available. Prediction results will be given with an integer index beginning at `start`.\n",
      "  return get_prediction_index(\n",
      "/workspaces/exponential_smoothing/expo.py:146: FutureWarning: The frame.append method is deprecated and will be removed from pandas in a future version. Use pandas.concat instead.\n",
      "  forecast = forecast.append(fcast,ignore_index=True)\n",
      "/workspaces/exponential_smoothing/.venv/lib/python3.10/site-packages/statsmodels/tsa/base/tsa_model.py:471: ValueWarning: No frequency information was provided, so inferred frequency W-SUN will be used.\n",
      "  self._init_dates(dates, freq)\n",
      "/workspaces/exponential_smoothing/.venv/lib/python3.10/site-packages/statsmodels/tsa/holtwinters/model.py:915: ConvergenceWarning: Optimization failed to converge. Check mle_retvals.\n",
      "  warnings.warn(\n",
      "/workspaces/exponential_smoothing/expo.py:146: FutureWarning: The frame.append method is deprecated and will be removed from pandas in a future version. Use pandas.concat instead.\n",
      "  forecast = forecast.append(fcast,ignore_index=True)\n",
      "/workspaces/exponential_smoothing/.venv/lib/python3.10/site-packages/statsmodels/tsa/base/tsa_model.py:471: ValueWarning: A date index has been provided, but it has no associated frequency information and so will be ignored when e.g. forecasting.\n",
      "  self._init_dates(dates, freq)\n"
     ]
    },
    {
     "name": "stdout",
     "output_type": "stream",
     "text": [
      "Forecasting the following store_number                          2633.0\n",
      "store_name      Hy-Vee #3 / BDI / Des Moines\n",
      "city                              Des Moines\n",
      "county                                  POLK\n",
      "srl_num                                   56\n",
      "Name: 12694, dtype: object ...\n",
      "Forecasting the following store_number                   2635.0\n",
      "store_name      Hy-Vee #4 / Davenport\n",
      "city                        Davenport\n",
      "county                          SCOTT\n",
      "srl_num                            34\n",
      "Name: 12908, dtype: object ...\n"
     ]
    },
    {
     "name": "stderr",
     "output_type": "stream",
     "text": [
      "/workspaces/exponential_smoothing/.venv/lib/python3.10/site-packages/statsmodels/tsa/holtwinters/model.py:915: ConvergenceWarning: Optimization failed to converge. Check mle_retvals.\n",
      "  warnings.warn(\n",
      "/workspaces/exponential_smoothing/.venv/lib/python3.10/site-packages/statsmodels/tsa/base/tsa_model.py:834: ValueWarning: No supported index is available. Prediction results will be given with an integer index beginning at `start`.\n",
      "  return get_prediction_index(\n",
      "/workspaces/exponential_smoothing/expo.py:146: FutureWarning: The frame.append method is deprecated and will be removed from pandas in a future version. Use pandas.concat instead.\n",
      "  forecast = forecast.append(fcast,ignore_index=True)\n",
      "/workspaces/exponential_smoothing/.venv/lib/python3.10/site-packages/statsmodels/tsa/base/tsa_model.py:471: ValueWarning: No frequency information was provided, so inferred frequency W-SUN will be used.\n",
      "  self._init_dates(dates, freq)\n",
      "/workspaces/exponential_smoothing/.venv/lib/python3.10/site-packages/statsmodels/tsa/holtwinters/model.py:915: ConvergenceWarning: Optimization failed to converge. Check mle_retvals.\n",
      "  warnings.warn(\n",
      "/workspaces/exponential_smoothing/expo.py:146: FutureWarning: The frame.append method is deprecated and will be removed from pandas in a future version. Use pandas.concat instead.\n",
      "  forecast = forecast.append(fcast,ignore_index=True)\n",
      "/workspaces/exponential_smoothing/.venv/lib/python3.10/site-packages/statsmodels/tsa/base/tsa_model.py:471: ValueWarning: A date index has been provided, but it has no associated frequency information and so will be ignored when e.g. forecasting.\n",
      "  self._init_dates(dates, freq)\n"
     ]
    },
    {
     "name": "stdout",
     "output_type": "stream",
     "text": [
      "Forecasting the following store_number                               2636.0\n",
      "store_name      Hy-Vee Wine and Spirits / Hubbell\n",
      "city                                   Des Moines\n",
      "county                                       POLK\n",
      "srl_num                                        60\n",
      "Name: 13119, dtype: object ...\n",
      "Forecasting the following store_number                   2637.0\n",
      "store_name      Hy-Vee #5 / Davenport\n",
      "city                        Davenport\n",
      "county                          SCOTT\n",
      "srl_num                            35\n",
      "Name: 13333, dtype: object ...\n"
     ]
    },
    {
     "name": "stderr",
     "output_type": "stream",
     "text": [
      "/workspaces/exponential_smoothing/.venv/lib/python3.10/site-packages/statsmodels/tsa/holtwinters/model.py:915: ConvergenceWarning: Optimization failed to converge. Check mle_retvals.\n",
      "  warnings.warn(\n",
      "/workspaces/exponential_smoothing/.venv/lib/python3.10/site-packages/statsmodels/tsa/base/tsa_model.py:834: ValueWarning: No supported index is available. Prediction results will be given with an integer index beginning at `start`.\n",
      "  return get_prediction_index(\n",
      "/workspaces/exponential_smoothing/expo.py:146: FutureWarning: The frame.append method is deprecated and will be removed from pandas in a future version. Use pandas.concat instead.\n",
      "  forecast = forecast.append(fcast,ignore_index=True)\n",
      "/workspaces/exponential_smoothing/.venv/lib/python3.10/site-packages/statsmodels/tsa/base/tsa_model.py:471: ValueWarning: A date index has been provided, but it has no associated frequency information and so will be ignored when e.g. forecasting.\n",
      "  self._init_dates(dates, freq)\n",
      "/workspaces/exponential_smoothing/.venv/lib/python3.10/site-packages/statsmodels/tsa/holtwinters/model.py:915: ConvergenceWarning: Optimization failed to converge. Check mle_retvals.\n",
      "  warnings.warn(\n",
      "/workspaces/exponential_smoothing/.venv/lib/python3.10/site-packages/statsmodels/tsa/base/tsa_model.py:834: ValueWarning: No supported index is available. Prediction results will be given with an integer index beginning at `start`.\n",
      "  return get_prediction_index(\n",
      "/workspaces/exponential_smoothing/expo.py:146: FutureWarning: The frame.append method is deprecated and will be removed from pandas in a future version. Use pandas.concat instead.\n",
      "  forecast = forecast.append(fcast,ignore_index=True)\n",
      "/workspaces/exponential_smoothing/.venv/lib/python3.10/site-packages/statsmodels/tsa/base/tsa_model.py:471: ValueWarning: A date index has been provided, but it has no associated frequency information and so will be ignored when e.g. forecasting.\n",
      "  self._init_dates(dates, freq)\n"
     ]
    },
    {
     "name": "stdout",
     "output_type": "stream",
     "text": [
      "Forecasting the following store_number                             2642.0\n",
      "store_name      Hy-Vee Wine and Spirits / Pella\n",
      "city                                      Pella\n",
      "county                                   MARION\n",
      "srl_num                                       5\n",
      "Name: 13546, dtype: object ...\n",
      "Forecasting the following store_number                                2643.0\n",
      "store_name      Hy-Vee Wine and Spirits / Waterloo\n",
      "city                                      Waterloo\n",
      "county                                  BLACK HAWK\n",
      "srl_num                                         33\n",
      "Name: 13759, dtype: object ...\n"
     ]
    },
    {
     "name": "stderr",
     "output_type": "stream",
     "text": [
      "/workspaces/exponential_smoothing/.venv/lib/python3.10/site-packages/statsmodels/tsa/holtwinters/model.py:915: ConvergenceWarning: Optimization failed to converge. Check mle_retvals.\n",
      "  warnings.warn(\n",
      "/workspaces/exponential_smoothing/.venv/lib/python3.10/site-packages/statsmodels/tsa/base/tsa_model.py:834: ValueWarning: No supported index is available. Prediction results will be given with an integer index beginning at `start`.\n",
      "  return get_prediction_index(\n",
      "/workspaces/exponential_smoothing/expo.py:146: FutureWarning: The frame.append method is deprecated and will be removed from pandas in a future version. Use pandas.concat instead.\n",
      "  forecast = forecast.append(fcast,ignore_index=True)\n",
      "/workspaces/exponential_smoothing/.venv/lib/python3.10/site-packages/statsmodels/tsa/base/tsa_model.py:471: ValueWarning: A date index has been provided, but it has no associated frequency information and so will be ignored when e.g. forecasting.\n",
      "  self._init_dates(dates, freq)\n",
      "/workspaces/exponential_smoothing/.venv/lib/python3.10/site-packages/statsmodels/tsa/holtwinters/model.py:915: ConvergenceWarning: Optimization failed to converge. Check mle_retvals.\n",
      "  warnings.warn(\n",
      "/workspaces/exponential_smoothing/.venv/lib/python3.10/site-packages/statsmodels/tsa/base/tsa_model.py:834: ValueWarning: No supported index is available. Prediction results will be given with an integer index beginning at `start`.\n",
      "  return get_prediction_index(\n",
      "/workspaces/exponential_smoothing/expo.py:146: FutureWarning: The frame.append method is deprecated and will be removed from pandas in a future version. Use pandas.concat instead.\n",
      "  forecast = forecast.append(fcast,ignore_index=True)\n",
      "/workspaces/exponential_smoothing/.venv/lib/python3.10/site-packages/statsmodels/tsa/base/tsa_model.py:471: ValueWarning: No frequency information was provided, so inferred frequency W-SUN will be used.\n",
      "  self._init_dates(dates, freq)\n"
     ]
    },
    {
     "name": "stdout",
     "output_type": "stream",
     "text": [
      "Forecasting the following store_number                                2644.0\n",
      "store_name      Hy-Vee Fort Dodge Wine and Spirits\n",
      "city                                    Fort Dodge\n",
      "county                                     WEBSTER\n",
      "srl_num                                         62\n",
      "Name: 13968, dtype: object ...\n",
      "Forecasting the following store_number                      2647.0\n",
      "store_name      Hy-Vee #7 / Cedar Rapids\n",
      "city                        Cedar Rapids\n",
      "county                              LINN\n",
      "srl_num                               78\n",
      "Name: 14181, dtype: object ...\n"
     ]
    },
    {
     "name": "stderr",
     "output_type": "stream",
     "text": [
      "/workspaces/exponential_smoothing/.venv/lib/python3.10/site-packages/statsmodels/tsa/holtwinters/model.py:915: ConvergenceWarning: Optimization failed to converge. Check mle_retvals.\n",
      "  warnings.warn(\n",
      "/workspaces/exponential_smoothing/expo.py:146: FutureWarning: The frame.append method is deprecated and will be removed from pandas in a future version. Use pandas.concat instead.\n",
      "  forecast = forecast.append(fcast,ignore_index=True)\n",
      "/workspaces/exponential_smoothing/.venv/lib/python3.10/site-packages/statsmodels/tsa/base/tsa_model.py:471: ValueWarning: No frequency information was provided, so inferred frequency W-SUN will be used.\n",
      "  self._init_dates(dates, freq)\n",
      "/workspaces/exponential_smoothing/.venv/lib/python3.10/site-packages/statsmodels/tsa/holtwinters/model.py:915: ConvergenceWarning: Optimization failed to converge. Check mle_retvals.\n",
      "  warnings.warn(\n",
      "/workspaces/exponential_smoothing/expo.py:146: FutureWarning: The frame.append method is deprecated and will be removed from pandas in a future version. Use pandas.concat instead.\n",
      "  forecast = forecast.append(fcast,ignore_index=True)\n",
      "/workspaces/exponential_smoothing/.venv/lib/python3.10/site-packages/statsmodels/tsa/base/tsa_model.py:471: ValueWarning: A date index has been provided, but it has no associated frequency information and so will be ignored when e.g. forecasting.\n",
      "  self._init_dates(dates, freq)\n"
     ]
    },
    {
     "name": "stdout",
     "output_type": "stream",
     "text": [
      "Forecasting the following store_number             2648.0\n",
      "store_name      Hy-Vee #4 / WDM\n",
      "city            West Des Moines\n",
      "county                     POLK\n",
      "srl_num                      93\n",
      "Name: 14395, dtype: object ...\n",
      "Forecasting the following store_number                 2649.0\n",
      "store_name      Hy-Vee #3 / Dubuque\n",
      "city                        Dubuque\n",
      "county                      DUBUQUE\n",
      "srl_num                          19\n",
      "Name: 14610, dtype: object ...\n"
     ]
    },
    {
     "name": "stderr",
     "output_type": "stream",
     "text": [
      "/workspaces/exponential_smoothing/.venv/lib/python3.10/site-packages/statsmodels/tsa/holtwinters/model.py:915: ConvergenceWarning: Optimization failed to converge. Check mle_retvals.\n",
      "  warnings.warn(\n",
      "/workspaces/exponential_smoothing/.venv/lib/python3.10/site-packages/statsmodels/tsa/base/tsa_model.py:834: ValueWarning: No supported index is available. Prediction results will be given with an integer index beginning at `start`.\n",
      "  return get_prediction_index(\n",
      "/workspaces/exponential_smoothing/expo.py:146: FutureWarning: The frame.append method is deprecated and will be removed from pandas in a future version. Use pandas.concat instead.\n",
      "  forecast = forecast.append(fcast,ignore_index=True)\n",
      "/workspaces/exponential_smoothing/.venv/lib/python3.10/site-packages/statsmodels/tsa/base/tsa_model.py:471: ValueWarning: A date index has been provided, but it has no associated frequency information and so will be ignored when e.g. forecasting.\n",
      "  self._init_dates(dates, freq)\n",
      "/workspaces/exponential_smoothing/.venv/lib/python3.10/site-packages/statsmodels/tsa/holtwinters/model.py:915: ConvergenceWarning: Optimization failed to converge. Check mle_retvals.\n",
      "  warnings.warn(\n",
      "/workspaces/exponential_smoothing/.venv/lib/python3.10/site-packages/statsmodels/tsa/base/tsa_model.py:834: ValueWarning: No supported index is available. Prediction results will be given with an integer index beginning at `start`.\n",
      "  return get_prediction_index(\n",
      "/workspaces/exponential_smoothing/expo.py:146: FutureWarning: The frame.append method is deprecated and will be removed from pandas in a future version. Use pandas.concat instead.\n",
      "  forecast = forecast.append(fcast,ignore_index=True)\n",
      "/workspaces/exponential_smoothing/.venv/lib/python3.10/site-packages/statsmodels/tsa/base/tsa_model.py:471: ValueWarning: A date index has been provided, but it has no associated frequency information and so will be ignored when e.g. forecasting.\n",
      "  self._init_dates(dates, freq)\n"
     ]
    },
    {
     "name": "stdout",
     "output_type": "stream",
     "text": [
      "Forecasting the following store_number              2651.0\n",
      "store_name      Hy-Vee / Waverly\n",
      "city                     Waverly\n",
      "county                    BREMER\n",
      "srl_num                       26\n",
      "Name: 14823, dtype: object ...\n",
      "Forecasting the following store_number                               2662.0\n",
      "store_name      Hy-Vee Wine & Spirits / Muscatine\n",
      "city                                    Muscatine\n",
      "county                                  MUSCATINE\n",
      "srl_num                                        45\n",
      "Name: 15031, dtype: object ...\n"
     ]
    },
    {
     "name": "stderr",
     "output_type": "stream",
     "text": [
      "/workspaces/exponential_smoothing/.venv/lib/python3.10/site-packages/statsmodels/tsa/holtwinters/model.py:915: ConvergenceWarning: Optimization failed to converge. Check mle_retvals.\n",
      "  warnings.warn(\n",
      "/workspaces/exponential_smoothing/.venv/lib/python3.10/site-packages/statsmodels/tsa/base/tsa_model.py:834: ValueWarning: No supported index is available. Prediction results will be given with an integer index beginning at `start`.\n",
      "  return get_prediction_index(\n",
      "/workspaces/exponential_smoothing/expo.py:146: FutureWarning: The frame.append method is deprecated and will be removed from pandas in a future version. Use pandas.concat instead.\n",
      "  forecast = forecast.append(fcast,ignore_index=True)\n",
      "/workspaces/exponential_smoothing/.venv/lib/python3.10/site-packages/statsmodels/tsa/base/tsa_model.py:471: ValueWarning: No frequency information was provided, so inferred frequency W-SUN will be used.\n",
      "  self._init_dates(dates, freq)\n",
      "/workspaces/exponential_smoothing/.venv/lib/python3.10/site-packages/statsmodels/tsa/holtwinters/model.py:915: ConvergenceWarning: Optimization failed to converge. Check mle_retvals.\n",
      "  warnings.warn(\n",
      "/workspaces/exponential_smoothing/expo.py:146: FutureWarning: The frame.append method is deprecated and will be removed from pandas in a future version. Use pandas.concat instead.\n",
      "  forecast = forecast.append(fcast,ignore_index=True)\n",
      "/workspaces/exponential_smoothing/.venv/lib/python3.10/site-packages/statsmodels/tsa/base/tsa_model.py:471: ValueWarning: No frequency information was provided, so inferred frequency W-SUN will be used.\n",
      "  self._init_dates(dates, freq)\n"
     ]
    },
    {
     "name": "stdout",
     "output_type": "stream",
     "text": [
      "Forecasting the following store_number                           2663.0\n",
      "store_name      Hy-Vee Food Store / Urbandale\n",
      "city                                Urbandale\n",
      "county                                   POLK\n",
      "srl_num                                    46\n",
      "Name: 15237, dtype: object ...\n",
      "Forecasting the following store_number             2665.0\n",
      "store_name      Hy-Vee / Waukee\n",
      "city                     Waukee\n",
      "county                   DALLAS\n",
      "srl_num                      13\n",
      "Name: 15450, dtype: object ...\n"
     ]
    },
    {
     "name": "stderr",
     "output_type": "stream",
     "text": [
      "/workspaces/exponential_smoothing/.venv/lib/python3.10/site-packages/statsmodels/tsa/holtwinters/model.py:915: ConvergenceWarning: Optimization failed to converge. Check mle_retvals.\n",
      "  warnings.warn(\n",
      "/workspaces/exponential_smoothing/expo.py:146: FutureWarning: The frame.append method is deprecated and will be removed from pandas in a future version. Use pandas.concat instead.\n",
      "  forecast = forecast.append(fcast,ignore_index=True)\n",
      "/workspaces/exponential_smoothing/.venv/lib/python3.10/site-packages/statsmodels/tsa/base/tsa_model.py:471: ValueWarning: No frequency information was provided, so inferred frequency W-SUN will be used.\n",
      "  self._init_dates(dates, freq)\n",
      "/workspaces/exponential_smoothing/.venv/lib/python3.10/site-packages/statsmodels/tsa/holtwinters/model.py:915: ConvergenceWarning: Optimization failed to converge. Check mle_retvals.\n",
      "  warnings.warn(\n",
      "/workspaces/exponential_smoothing/expo.py:146: FutureWarning: The frame.append method is deprecated and will be removed from pandas in a future version. Use pandas.concat instead.\n",
      "  forecast = forecast.append(fcast,ignore_index=True)\n",
      "/workspaces/exponential_smoothing/.venv/lib/python3.10/site-packages/statsmodels/tsa/base/tsa_model.py:471: ValueWarning: No frequency information was provided, so inferred frequency W-SUN will be used.\n",
      "  self._init_dates(dates, freq)\n"
     ]
    },
    {
     "name": "stdout",
     "output_type": "stream",
     "text": [
      "Forecasting the following store_number                                 2666.0\n",
      "store_name      Hy-Vee Food Store #2 / State Ankeny\n",
      "city                                         Ankeny\n",
      "county                                         POLK\n",
      "srl_num                                           8\n",
      "Name: 15664, dtype: object ...\n",
      "Forecasting the following store_number                                 2666.0\n",
      "store_name      Hy-Vee Food Store #2 / State Ankeny\n",
      "city                                         Ankeny\n",
      "county                                         Polk\n",
      "srl_num                                         110\n",
      "Name: 15797, dtype: object ...\n",
      "Forecasting the following store_number                            2670.0\n",
      "store_name      Hy-Vee Food Store / Coralville\n",
      "city                                Coralville\n",
      "county                                 JOHNSON\n",
      "srl_num                                     51\n",
      "Name: 15875, dtype: object ...\n"
     ]
    },
    {
     "name": "stderr",
     "output_type": "stream",
     "text": [
      "/workspaces/exponential_smoothing/.venv/lib/python3.10/site-packages/statsmodels/tsa/holtwinters/model.py:915: ConvergenceWarning: Optimization failed to converge. Check mle_retvals.\n",
      "  warnings.warn(\n",
      "/workspaces/exponential_smoothing/expo.py:146: FutureWarning: The frame.append method is deprecated and will be removed from pandas in a future version. Use pandas.concat instead.\n",
      "  forecast = forecast.append(fcast,ignore_index=True)\n",
      "/workspaces/exponential_smoothing/.venv/lib/python3.10/site-packages/statsmodels/tsa/base/tsa_model.py:471: ValueWarning: A date index has been provided, but it has no associated frequency information and so will be ignored when e.g. forecasting.\n",
      "  self._init_dates(dates, freq)\n",
      "/workspaces/exponential_smoothing/.venv/lib/python3.10/site-packages/statsmodels/tsa/holtwinters/model.py:915: ConvergenceWarning: Optimization failed to converge. Check mle_retvals.\n",
      "  warnings.warn(\n",
      "/workspaces/exponential_smoothing/.venv/lib/python3.10/site-packages/statsmodels/tsa/base/tsa_model.py:834: ValueWarning: No supported index is available. Prediction results will be given with an integer index beginning at `start`.\n",
      "  return get_prediction_index(\n",
      "/workspaces/exponential_smoothing/expo.py:146: FutureWarning: The frame.append method is deprecated and will be removed from pandas in a future version. Use pandas.concat instead.\n",
      "  forecast = forecast.append(fcast,ignore_index=True)\n",
      "/workspaces/exponential_smoothing/.venv/lib/python3.10/site-packages/statsmodels/tsa/base/tsa_model.py:471: ValueWarning: A date index has been provided, but it has no associated frequency information and so will be ignored when e.g. forecasting.\n",
      "  self._init_dates(dates, freq)\n"
     ]
    },
    {
     "name": "stdout",
     "output_type": "stream",
     "text": [
      "Forecasting the following store_number                    2673.0\n",
      "store_name      Hy-Vee # 6/ Des Moines\n",
      "city                        Des Moines\n",
      "county                            POLK\n",
      "srl_num                             54\n",
      "Name: 16089, dtype: object ...\n",
      "Forecasting the following store_number                         3354.0\n",
      "store_name      Sam's Club 8238 / Davenport\n",
      "city                              Davenport\n",
      "county                                SCOTT\n",
      "srl_num                                  36\n",
      "Name: 16301, dtype: object ...\n"
     ]
    },
    {
     "name": "stderr",
     "output_type": "stream",
     "text": [
      "/workspaces/exponential_smoothing/.venv/lib/python3.10/site-packages/statsmodels/tsa/holtwinters/model.py:915: ConvergenceWarning: Optimization failed to converge. Check mle_retvals.\n",
      "  warnings.warn(\n",
      "/workspaces/exponential_smoothing/.venv/lib/python3.10/site-packages/statsmodels/tsa/base/tsa_model.py:834: ValueWarning: No supported index is available. Prediction results will be given with an integer index beginning at `start`.\n",
      "  return get_prediction_index(\n",
      "/workspaces/exponential_smoothing/expo.py:146: FutureWarning: The frame.append method is deprecated and will be removed from pandas in a future version. Use pandas.concat instead.\n",
      "  forecast = forecast.append(fcast,ignore_index=True)\n",
      "/workspaces/exponential_smoothing/.venv/lib/python3.10/site-packages/statsmodels/tsa/base/tsa_model.py:471: ValueWarning: A date index has been provided, but it has no associated frequency information and so will be ignored when e.g. forecasting.\n",
      "  self._init_dates(dates, freq)\n",
      "/workspaces/exponential_smoothing/.venv/lib/python3.10/site-packages/statsmodels/tsa/holtwinters/model.py:915: ConvergenceWarning: Optimization failed to converge. Check mle_retvals.\n",
      "  warnings.warn(\n",
      "/workspaces/exponential_smoothing/.venv/lib/python3.10/site-packages/statsmodels/tsa/base/tsa_model.py:834: ValueWarning: No supported index is available. Prediction results will be given with an integer index beginning at `start`.\n",
      "  return get_prediction_index(\n",
      "/workspaces/exponential_smoothing/expo.py:146: FutureWarning: The frame.append method is deprecated and will be removed from pandas in a future version. Use pandas.concat instead.\n",
      "  forecast = forecast.append(fcast,ignore_index=True)\n",
      "/workspaces/exponential_smoothing/.venv/lib/python3.10/site-packages/statsmodels/tsa/base/tsa_model.py:471: ValueWarning: No frequency information was provided, so inferred frequency W-SUN will be used.\n",
      "  self._init_dates(dates, freq)\n"
     ]
    },
    {
     "name": "stdout",
     "output_type": "stream",
     "text": [
      "Forecasting the following store_number                            3385.0\n",
      "store_name      Sam's Club 8162 / Cedar Rapids\n",
      "city                              Cedar Rapids\n",
      "county                                    LINN\n",
      "srl_num                                     79\n",
      "Name: 16513, dtype: object ...\n",
      "Forecasting the following store_number                   3390.0\n",
      "store_name      Okoboji Avenue Liquor\n",
      "city                          Milford\n",
      "county                      DICKINSON\n",
      "srl_num                            22\n",
      "Name: 16726, dtype: object ...\n"
     ]
    },
    {
     "name": "stderr",
     "output_type": "stream",
     "text": [
      "/workspaces/exponential_smoothing/.venv/lib/python3.10/site-packages/statsmodels/tsa/holtwinters/model.py:915: ConvergenceWarning: Optimization failed to converge. Check mle_retvals.\n",
      "  warnings.warn(\n",
      "/workspaces/exponential_smoothing/expo.py:146: FutureWarning: The frame.append method is deprecated and will be removed from pandas in a future version. Use pandas.concat instead.\n",
      "  forecast = forecast.append(fcast,ignore_index=True)\n",
      "/workspaces/exponential_smoothing/.venv/lib/python3.10/site-packages/statsmodels/tsa/base/tsa_model.py:471: ValueWarning: A date index has been provided, but it has no associated frequency information and so will be ignored when e.g. forecasting.\n",
      "  self._init_dates(dates, freq)\n",
      "/workspaces/exponential_smoothing/.venv/lib/python3.10/site-packages/statsmodels/tsa/holtwinters/model.py:915: ConvergenceWarning: Optimization failed to converge. Check mle_retvals.\n",
      "  warnings.warn(\n",
      "/workspaces/exponential_smoothing/.venv/lib/python3.10/site-packages/statsmodels/tsa/base/tsa_model.py:834: ValueWarning: No supported index is available. Prediction results will be given with an integer index beginning at `start`.\n",
      "  return get_prediction_index(\n",
      "/workspaces/exponential_smoothing/expo.py:146: FutureWarning: The frame.append method is deprecated and will be removed from pandas in a future version. Use pandas.concat instead.\n",
      "  forecast = forecast.append(fcast,ignore_index=True)\n"
     ]
    },
    {
     "name": "stdout",
     "output_type": "stream",
     "text": [
      "Forecasting the following store_number                               3420.0\n",
      "store_name      Sam's Club 6344 / Windsor Heights\n",
      "city                              Windsor Heights\n",
      "county                                       Polk\n",
      "srl_num                                        99\n",
      "Name: 16940, dtype: object ...\n",
      "Forecasting the following store_number                          3447.0\n",
      "store_name      Sam's Club 6432 / Sioux City\n",
      "city                              Sioux City\n",
      "county                              WOODBURY\n",
      "srl_num                                   68\n",
      "Name: 17146, dtype: object ...\n"
     ]
    },
    {
     "name": "stderr",
     "output_type": "stream",
     "text": [
      "/workspaces/exponential_smoothing/.venv/lib/python3.10/site-packages/statsmodels/tsa/base/tsa_model.py:471: ValueWarning: A date index has been provided, but it has no associated frequency information and so will be ignored when e.g. forecasting.\n",
      "  self._init_dates(dates, freq)\n",
      "/workspaces/exponential_smoothing/.venv/lib/python3.10/site-packages/statsmodels/tsa/holtwinters/model.py:915: ConvergenceWarning: Optimization failed to converge. Check mle_retvals.\n",
      "  warnings.warn(\n",
      "/workspaces/exponential_smoothing/.venv/lib/python3.10/site-packages/statsmodels/tsa/base/tsa_model.py:834: ValueWarning: No supported index is available. Prediction results will be given with an integer index beginning at `start`.\n",
      "  return get_prediction_index(\n",
      "/workspaces/exponential_smoothing/expo.py:146: FutureWarning: The frame.append method is deprecated and will be removed from pandas in a future version. Use pandas.concat instead.\n",
      "  forecast = forecast.append(fcast,ignore_index=True)\n",
      "/workspaces/exponential_smoothing/.venv/lib/python3.10/site-packages/statsmodels/tsa/base/tsa_model.py:471: ValueWarning: A date index has been provided, but it has no associated frequency information and so will be ignored when e.g. forecasting.\n",
      "  self._init_dates(dates, freq)\n"
     ]
    },
    {
     "name": "stdout",
     "output_type": "stream",
     "text": [
      "Forecasting the following store_number                              3477.0\n",
      "store_name      Sam's Club 6472 / Council Bluffs\n",
      "city                              Council Bluffs\n",
      "county                                POTTAWATTA\n",
      "srl_num                                       89\n",
      "Name: 17357, dtype: object ...\n",
      "Forecasting the following store_number                        3494.0\n",
      "store_name      Sam's Club 6514 / Waterloo\n",
      "city                              Waterloo\n",
      "county                          BLACK HAWK\n",
      "srl_num                                 30\n",
      "Name: 17568, dtype: object ...\n"
     ]
    },
    {
     "name": "stderr",
     "output_type": "stream",
     "text": [
      "/workspaces/exponential_smoothing/.venv/lib/python3.10/site-packages/statsmodels/tsa/holtwinters/model.py:915: ConvergenceWarning: Optimization failed to converge. Check mle_retvals.\n",
      "  warnings.warn(\n",
      "/workspaces/exponential_smoothing/.venv/lib/python3.10/site-packages/statsmodels/tsa/base/tsa_model.py:834: ValueWarning: No supported index is available. Prediction results will be given with an integer index beginning at `start`.\n",
      "  return get_prediction_index(\n",
      "/workspaces/exponential_smoothing/expo.py:146: FutureWarning: The frame.append method is deprecated and will be removed from pandas in a future version. Use pandas.concat instead.\n",
      "  forecast = forecast.append(fcast,ignore_index=True)\n",
      "/workspaces/exponential_smoothing/.venv/lib/python3.10/site-packages/statsmodels/tsa/base/tsa_model.py:471: ValueWarning: A date index has been provided, but it has no associated frequency information and so will be ignored when e.g. forecasting.\n",
      "  self._init_dates(dates, freq)\n",
      "/workspaces/exponential_smoothing/.venv/lib/python3.10/site-packages/statsmodels/tsa/holtwinters/model.py:915: ConvergenceWarning: Optimization failed to converge. Check mle_retvals.\n",
      "  warnings.warn(\n",
      "/workspaces/exponential_smoothing/.venv/lib/python3.10/site-packages/statsmodels/tsa/base/tsa_model.py:834: ValueWarning: No supported index is available. Prediction results will be given with an integer index beginning at `start`.\n",
      "  return get_prediction_index(\n",
      "/workspaces/exponential_smoothing/expo.py:146: FutureWarning: The frame.append method is deprecated and will be removed from pandas in a future version. Use pandas.concat instead.\n",
      "  forecast = forecast.append(fcast,ignore_index=True)\n",
      "/workspaces/exponential_smoothing/.venv/lib/python3.10/site-packages/statsmodels/tsa/base/tsa_model.py:471: ValueWarning: A date index has been provided, but it has no associated frequency information and so will be ignored when e.g. forecasting.\n",
      "  self._init_dates(dates, freq)\n"
     ]
    },
    {
     "name": "stdout",
     "output_type": "stream",
     "text": [
      "Forecasting the following store_number                    3524.0\n",
      "store_name      Sam's Club 6568 / Ames\n",
      "city                              Ames\n",
      "county                           STORY\n",
      "srl_num                              2\n",
      "Name: 17777, dtype: object ...\n",
      "Forecasting the following store_number               3773.0\n",
      "store_name      Benz Distributing\n",
      "city                 Cedar Rapids\n",
      "county                       LINN\n",
      "srl_num                        77\n",
      "Name: 17990, dtype: object ...\n"
     ]
    },
    {
     "name": "stderr",
     "output_type": "stream",
     "text": [
      "/workspaces/exponential_smoothing/.venv/lib/python3.10/site-packages/statsmodels/tsa/holtwinters/model.py:915: ConvergenceWarning: Optimization failed to converge. Check mle_retvals.\n",
      "  warnings.warn(\n",
      "/workspaces/exponential_smoothing/.venv/lib/python3.10/site-packages/statsmodels/tsa/base/tsa_model.py:834: ValueWarning: No supported index is available. Prediction results will be given with an integer index beginning at `start`.\n",
      "  return get_prediction_index(\n",
      "/workspaces/exponential_smoothing/expo.py:146: FutureWarning: The frame.append method is deprecated and will be removed from pandas in a future version. Use pandas.concat instead.\n",
      "  forecast = forecast.append(fcast,ignore_index=True)\n",
      "/workspaces/exponential_smoothing/.venv/lib/python3.10/site-packages/statsmodels/tsa/base/tsa_model.py:471: ValueWarning: No frequency information was provided, so inferred frequency W-SUN will be used.\n",
      "  self._init_dates(dates, freq)\n",
      "/workspaces/exponential_smoothing/.venv/lib/python3.10/site-packages/statsmodels/tsa/holtwinters/model.py:915: ConvergenceWarning: Optimization failed to converge. Check mle_retvals.\n",
      "  warnings.warn(\n",
      "/workspaces/exponential_smoothing/expo.py:146: FutureWarning: The frame.append method is deprecated and will be removed from pandas in a future version. Use pandas.concat instead.\n",
      "  forecast = forecast.append(fcast,ignore_index=True)\n",
      "/workspaces/exponential_smoothing/.venv/lib/python3.10/site-packages/statsmodels/tsa/base/tsa_model.py:471: ValueWarning: A date index has been provided, but it has no associated frequency information and so will be ignored when e.g. forecasting.\n",
      "  self._init_dates(dates, freq)\n"
     ]
    },
    {
     "name": "stdout",
     "output_type": "stream",
     "text": [
      "Forecasting the following store_number                         3814.0\n",
      "store_name      Costco Wholesale #788 / WDM\n",
      "city                        West Des Moines\n",
      "county                               Dallas\n",
      "srl_num                                  95\n",
      "Name: 18207, dtype: object ...\n",
      "Forecasting the following store_number                         3820.0\n",
      "store_name      Charlie's Wine and Spirits,\n",
      "city                             Sioux City\n",
      "county                             WOODBURY\n",
      "srl_num                                  67\n",
      "Name: 18405, dtype: object ...\n"
     ]
    },
    {
     "name": "stderr",
     "output_type": "stream",
     "text": [
      "/workspaces/exponential_smoothing/.venv/lib/python3.10/site-packages/statsmodels/tsa/holtwinters/model.py:915: ConvergenceWarning: Optimization failed to converge. Check mle_retvals.\n",
      "  warnings.warn(\n",
      "/workspaces/exponential_smoothing/.venv/lib/python3.10/site-packages/statsmodels/tsa/base/tsa_model.py:834: ValueWarning: No supported index is available. Prediction results will be given with an integer index beginning at `start`.\n",
      "  return get_prediction_index(\n",
      "/workspaces/exponential_smoothing/expo.py:146: FutureWarning: The frame.append method is deprecated and will be removed from pandas in a future version. Use pandas.concat instead.\n",
      "  forecast = forecast.append(fcast,ignore_index=True)\n",
      "/workspaces/exponential_smoothing/.venv/lib/python3.10/site-packages/statsmodels/tsa/base/tsa_model.py:471: ValueWarning: No frequency information was provided, so inferred frequency W-SUN will be used.\n",
      "  self._init_dates(dates, freq)\n",
      "/workspaces/exponential_smoothing/.venv/lib/python3.10/site-packages/statsmodels/tsa/holtwinters/model.py:915: ConvergenceWarning: Optimization failed to converge. Check mle_retvals.\n",
      "  warnings.warn(\n",
      "/workspaces/exponential_smoothing/expo.py:146: FutureWarning: The frame.append method is deprecated and will be removed from pandas in a future version. Use pandas.concat instead.\n",
      "  forecast = forecast.append(fcast,ignore_index=True)\n",
      "/workspaces/exponential_smoothing/.venv/lib/python3.10/site-packages/statsmodels/tsa/base/tsa_model.py:471: ValueWarning: A date index has been provided, but it has no associated frequency information and so will be ignored when e.g. forecasting.\n",
      "  self._init_dates(dates, freq)\n"
     ]
    },
    {
     "name": "stdout",
     "output_type": "stream",
     "text": [
      "Forecasting the following store_number                       3944.0\n",
      "store_name      Sam's Club 4973 / Dubuque\n",
      "city                              Dubuque\n",
      "county                            DUBUQUE\n",
      "srl_num                                20\n",
      "Name: 18619, dtype: object ...\n",
      "Forecasting the following store_number           3952.0\n",
      "store_name      Lot-A-Spirits\n",
      "city               Bettendorf\n",
      "county                  SCOTT\n",
      "srl_num                    47\n",
      "Name: 18832, dtype: object ...\n"
     ]
    },
    {
     "name": "stderr",
     "output_type": "stream",
     "text": [
      "/workspaces/exponential_smoothing/.venv/lib/python3.10/site-packages/statsmodels/tsa/holtwinters/model.py:915: ConvergenceWarning: Optimization failed to converge. Check mle_retvals.\n",
      "  warnings.warn(\n",
      "/workspaces/exponential_smoothing/.venv/lib/python3.10/site-packages/statsmodels/tsa/base/tsa_model.py:834: ValueWarning: No supported index is available. Prediction results will be given with an integer index beginning at `start`.\n",
      "  return get_prediction_index(\n",
      "/workspaces/exponential_smoothing/expo.py:146: FutureWarning: The frame.append method is deprecated and will be removed from pandas in a future version. Use pandas.concat instead.\n",
      "  forecast = forecast.append(fcast,ignore_index=True)\n",
      "/workspaces/exponential_smoothing/.venv/lib/python3.10/site-packages/statsmodels/tsa/base/tsa_model.py:471: ValueWarning: A date index has been provided, but it has no associated frequency information and so will be ignored when e.g. forecasting.\n",
      "  self._init_dates(dates, freq)\n",
      "/workspaces/exponential_smoothing/.venv/lib/python3.10/site-packages/statsmodels/tsa/holtwinters/model.py:915: ConvergenceWarning: Optimization failed to converge. Check mle_retvals.\n",
      "  warnings.warn(\n",
      "/workspaces/exponential_smoothing/.venv/lib/python3.10/site-packages/statsmodels/tsa/base/tsa_model.py:834: ValueWarning: No supported index is available. Prediction results will be given with an integer index beginning at `start`.\n",
      "  return get_prediction_index(\n",
      "/workspaces/exponential_smoothing/expo.py:146: FutureWarning: The frame.append method is deprecated and will be removed from pandas in a future version. Use pandas.concat instead.\n",
      "  forecast = forecast.append(fcast,ignore_index=True)\n",
      "/workspaces/exponential_smoothing/.venv/lib/python3.10/site-packages/statsmodels/tsa/base/tsa_model.py:471: ValueWarning: No frequency information was provided, so inferred frequency W-SUN will be used.\n",
      "  self._init_dates(dates, freq)\n"
     ]
    },
    {
     "name": "stdout",
     "output_type": "stream",
     "text": [
      "Forecasting the following store_number             4129.0\n",
      "store_name      Cyclone Liquors\n",
      "city                       Ames\n",
      "county                    STORY\n",
      "srl_num                       0\n",
      "Name: 19044, dtype: object ...\n",
      "Forecasting the following store_number                          4312.0\n",
      "store_name      I-80 Liquor / Council Bluffs\n",
      "city                          Council Bluffs\n",
      "county                            POTTAWATTA\n",
      "srl_num                                   88\n",
      "Name: 19258, dtype: object ...\n"
     ]
    },
    {
     "name": "stderr",
     "output_type": "stream",
     "text": [
      "/workspaces/exponential_smoothing/.venv/lib/python3.10/site-packages/statsmodels/tsa/holtwinters/model.py:915: ConvergenceWarning: Optimization failed to converge. Check mle_retvals.\n",
      "  warnings.warn(\n",
      "/workspaces/exponential_smoothing/expo.py:146: FutureWarning: The frame.append method is deprecated and will be removed from pandas in a future version. Use pandas.concat instead.\n",
      "  forecast = forecast.append(fcast,ignore_index=True)\n",
      "/workspaces/exponential_smoothing/.venv/lib/python3.10/site-packages/statsmodels/tsa/base/tsa_model.py:471: ValueWarning: A date index has been provided, but it has no associated frequency information and so will be ignored when e.g. forecasting.\n",
      "  self._init_dates(dates, freq)\n",
      "/workspaces/exponential_smoothing/.venv/lib/python3.10/site-packages/statsmodels/tsa/holtwinters/model.py:915: ConvergenceWarning: Optimization failed to converge. Check mle_retvals.\n",
      "  warnings.warn(\n",
      "/workspaces/exponential_smoothing/.venv/lib/python3.10/site-packages/statsmodels/tsa/base/tsa_model.py:834: ValueWarning: No supported index is available. Prediction results will be given with an integer index beginning at `start`.\n",
      "  return get_prediction_index(\n",
      "/workspaces/exponential_smoothing/expo.py:146: FutureWarning: The frame.append method is deprecated and will be removed from pandas in a future version. Use pandas.concat instead.\n",
      "  forecast = forecast.append(fcast,ignore_index=True)\n",
      "/workspaces/exponential_smoothing/.venv/lib/python3.10/site-packages/statsmodels/tsa/base/tsa_model.py:471: ValueWarning: A date index has been provided, but it has no associated frequency information and so will be ignored when e.g. forecasting.\n",
      "  self._init_dates(dates, freq)\n"
     ]
    },
    {
     "name": "stdout",
     "output_type": "stream",
     "text": [
      "Forecasting the following store_number                                 4677.0\n",
      "store_name      Costco Wholesale #1111 / Coralville\n",
      "city                                     Coralville\n",
      "county                                      JOHNSON\n",
      "srl_num                                          52\n",
      "Name: 19466, dtype: object ...\n",
      "Forecasting the following store_number            4829.0\n",
      "store_name      Central City 2\n",
      "city                Des Moines\n",
      "county                    POLK\n",
      "srl_num                     53\n",
      "Name: 19660, dtype: object ...\n"
     ]
    },
    {
     "name": "stderr",
     "output_type": "stream",
     "text": [
      "/workspaces/exponential_smoothing/.venv/lib/python3.10/site-packages/statsmodels/tsa/holtwinters/model.py:915: ConvergenceWarning: Optimization failed to converge. Check mle_retvals.\n",
      "  warnings.warn(\n",
      "/workspaces/exponential_smoothing/.venv/lib/python3.10/site-packages/statsmodels/tsa/base/tsa_model.py:834: ValueWarning: No supported index is available. Prediction results will be given with an integer index beginning at `start`.\n",
      "  return get_prediction_index(\n",
      "/workspaces/exponential_smoothing/expo.py:146: FutureWarning: The frame.append method is deprecated and will be removed from pandas in a future version. Use pandas.concat instead.\n",
      "  forecast = forecast.append(fcast,ignore_index=True)\n",
      "/workspaces/exponential_smoothing/.venv/lib/python3.10/site-packages/statsmodels/tsa/base/tsa_model.py:471: ValueWarning: A date index has been provided, but it has no associated frequency information and so will be ignored when e.g. forecasting.\n",
      "  self._init_dates(dates, freq)\n",
      "/workspaces/exponential_smoothing/.venv/lib/python3.10/site-packages/statsmodels/tsa/holtwinters/model.py:915: ConvergenceWarning: Optimization failed to converge. Check mle_retvals.\n",
      "  warnings.warn(\n",
      "/workspaces/exponential_smoothing/.venv/lib/python3.10/site-packages/statsmodels/tsa/base/tsa_model.py:834: ValueWarning: No supported index is available. Prediction results will be given with an integer index beginning at `start`.\n",
      "  return get_prediction_index(\n",
      "/workspaces/exponential_smoothing/expo.py:146: FutureWarning: The frame.append method is deprecated and will be removed from pandas in a future version. Use pandas.concat instead.\n",
      "  forecast = forecast.append(fcast,ignore_index=True)\n",
      "/workspaces/exponential_smoothing/.venv/lib/python3.10/site-packages/statsmodels/tsa/base/tsa_model.py:471: ValueWarning: No frequency information was provided, so inferred frequency W-SUN will be used.\n",
      "  self._init_dates(dates, freq)\n"
     ]
    },
    {
     "name": "stdout",
     "output_type": "stream",
     "text": [
      "Forecasting the following store_number                           4969.0\n",
      "store_name      Lake Liquors Wine and Spirits\n",
      "city                               Clear Lake\n",
      "county                             CERRO GORD\n",
      "srl_num                                    50\n",
      "Name: 19873, dtype: object ...\n",
      "Forecasting the following store_number                           4969.0\n",
      "store_name      Lake Liquors Wine and Spirits\n",
      "city                               Clear Lake\n",
      "county                             Cerro Gord\n",
      "srl_num                                   105\n",
      "Name: 20006, dtype: object ...\n",
      "Forecasting the following store_number                    4988.0\n",
      "store_name      Happy's Wine & Spirits\n",
      "city                       Cedar Falls\n",
      "county                      BLACK HAWK\n",
      "srl_num                             73\n",
      "Name: 20084, dtype: object ...\n"
     ]
    },
    {
     "name": "stderr",
     "output_type": "stream",
     "text": [
      "/workspaces/exponential_smoothing/.venv/lib/python3.10/site-packages/statsmodels/tsa/holtwinters/model.py:915: ConvergenceWarning: Optimization failed to converge. Check mle_retvals.\n",
      "  warnings.warn(\n",
      "/workspaces/exponential_smoothing/expo.py:146: FutureWarning: The frame.append method is deprecated and will be removed from pandas in a future version. Use pandas.concat instead.\n",
      "  forecast = forecast.append(fcast,ignore_index=True)\n",
      "/workspaces/exponential_smoothing/.venv/lib/python3.10/site-packages/statsmodels/tsa/base/tsa_model.py:471: ValueWarning: A date index has been provided, but it has no associated frequency information and so will be ignored when e.g. forecasting.\n",
      "  self._init_dates(dates, freq)\n",
      "/workspaces/exponential_smoothing/.venv/lib/python3.10/site-packages/statsmodels/tsa/holtwinters/model.py:915: ConvergenceWarning: Optimization failed to converge. Check mle_retvals.\n",
      "  warnings.warn(\n",
      "/workspaces/exponential_smoothing/.venv/lib/python3.10/site-packages/statsmodels/tsa/base/tsa_model.py:834: ValueWarning: No supported index is available. Prediction results will be given with an integer index beginning at `start`.\n",
      "  return get_prediction_index(\n",
      "/workspaces/exponential_smoothing/expo.py:146: FutureWarning: The frame.append method is deprecated and will be removed from pandas in a future version. Use pandas.concat instead.\n",
      "  forecast = forecast.append(fcast,ignore_index=True)\n",
      "/workspaces/exponential_smoothing/.venv/lib/python3.10/site-packages/statsmodels/tsa/base/tsa_model.py:471: ValueWarning: No frequency information was provided, so inferred frequency W-SUN will be used.\n",
      "  self._init_dates(dates, freq)\n"
     ]
    },
    {
     "name": "stdout",
     "output_type": "stream",
     "text": [
      "Forecasting the following store_number            5102.0\n",
      "store_name      Wilkie Liquors\n",
      "city              Mount Vernon\n",
      "county                    LINN\n",
      "srl_num                     86\n",
      "Name: 20297, dtype: object ...\n",
      "Forecasting the following store_number                      5144.0\n",
      "store_name      Sam's Club 6979 / Ankeny\n",
      "city                              Ankeny\n",
      "county                              POLK\n",
      "srl_num                                6\n",
      "Name: 20511, dtype: object ...\n"
     ]
    },
    {
     "name": "stderr",
     "output_type": "stream",
     "text": [
      "/workspaces/exponential_smoothing/.venv/lib/python3.10/site-packages/statsmodels/tsa/holtwinters/model.py:915: ConvergenceWarning: Optimization failed to converge. Check mle_retvals.\n",
      "  warnings.warn(\n",
      "/workspaces/exponential_smoothing/expo.py:146: FutureWarning: The frame.append method is deprecated and will be removed from pandas in a future version. Use pandas.concat instead.\n",
      "  forecast = forecast.append(fcast,ignore_index=True)\n",
      "/workspaces/exponential_smoothing/.venv/lib/python3.10/site-packages/statsmodels/tsa/base/tsa_model.py:471: ValueWarning: A date index has been provided, but it has no associated frequency information and so will be ignored when e.g. forecasting.\n",
      "  self._init_dates(dates, freq)\n",
      "/workspaces/exponential_smoothing/.venv/lib/python3.10/site-packages/statsmodels/tsa/holtwinters/model.py:915: ConvergenceWarning: Optimization failed to converge. Check mle_retvals.\n",
      "  warnings.warn(\n",
      "/workspaces/exponential_smoothing/.venv/lib/python3.10/site-packages/statsmodels/tsa/base/tsa_model.py:834: ValueWarning: No supported index is available. Prediction results will be given with an integer index beginning at `start`.\n",
      "  return get_prediction_index(\n",
      "/workspaces/exponential_smoothing/expo.py:146: FutureWarning: The frame.append method is deprecated and will be removed from pandas in a future version. Use pandas.concat instead.\n",
      "  forecast = forecast.append(fcast,ignore_index=True)\n",
      "/workspaces/exponential_smoothing/.venv/lib/python3.10/site-packages/statsmodels/tsa/base/tsa_model.py:471: ValueWarning: No frequency information was provided, so inferred frequency W-SUN will be used.\n",
      "  self._init_dates(dates, freq)\n"
     ]
    },
    {
     "name": "stdout",
     "output_type": "stream",
     "text": [
      "Forecasting the following store_number               5257.0\n",
      "store_name      MAD Ave Quik Shop\n",
      "city                      Ottumwa\n",
      "county                    WAPELLO\n",
      "srl_num                        23\n",
      "Name: 20720, dtype: object ...\n",
      "Forecasting the following store_number             5351.0\n",
      "store_name      Downtown Liquor\n",
      "city                 Sioux City\n",
      "county                 WOODBURY\n",
      "srl_num                      66\n",
      "Name: 20934, dtype: object ...\n",
      "Forecasting the following store_number                         2565.0\n",
      "store_name      Hy-Vee Food Store / Spencer\n",
      "city                                Spencer\n",
      "county                                 CLAY\n",
      "srl_num                                 101\n",
      "Name: 21145, dtype: object ...\n",
      "final fc df         date      forecast srl_num  store_number                   store_name  \\\n",
      "0 2022-02-13  17471.622359      74        2106.0  Hillstreet News and Tobacco   \n",
      "1 2022-02-20  13975.493124      74        2106.0  Hillstreet News and Tobacco   \n",
      "2 2022-02-27  16123.527605      74        2106.0  Hillstreet News and Tobacco   \n",
      "3 2022-03-06  16522.966457      74        2106.0  Hillstreet News and Tobacco   \n",
      "4 2022-03-13  16727.444455      74        2106.0  Hillstreet News and Tobacco   \n",
      "\n",
      "          city      county  \n",
      "0  Cedar Falls  BLACK HAWK  \n",
      "1  Cedar Falls  BLACK HAWK  \n",
      "2  Cedar Falls  BLACK HAWK  \n",
      "3  Cedar Falls  BLACK HAWK  \n",
      "4  Cedar Falls  BLACK HAWK  \n"
     ]
    },
    {
     "name": "stderr",
     "output_type": "stream",
     "text": [
      "/workspaces/exponential_smoothing/.venv/lib/python3.10/site-packages/statsmodels/tsa/holtwinters/model.py:915: ConvergenceWarning: Optimization failed to converge. Check mle_retvals.\n",
      "  warnings.warn(\n",
      "/workspaces/exponential_smoothing/expo.py:146: FutureWarning: The frame.append method is deprecated and will be removed from pandas in a future version. Use pandas.concat instead.\n",
      "  forecast = forecast.append(fcast,ignore_index=True)\n",
      "/workspaces/exponential_smoothing/.venv/lib/python3.10/site-packages/statsmodels/tsa/base/tsa_model.py:471: ValueWarning: A date index has been provided, but it has no associated frequency information and so will be ignored when e.g. forecasting.\n",
      "  self._init_dates(dates, freq)\n",
      "/workspaces/exponential_smoothing/.venv/lib/python3.10/site-packages/statsmodels/tsa/holtwinters/model.py:915: ConvergenceWarning: Optimization failed to converge. Check mle_retvals.\n",
      "  warnings.warn(\n",
      "/workspaces/exponential_smoothing/.venv/lib/python3.10/site-packages/statsmodels/tsa/base/tsa_model.py:834: ValueWarning: No supported index is available. Prediction results will be given with an integer index beginning at `start`.\n",
      "  return get_prediction_index(\n",
      "/workspaces/exponential_smoothing/expo.py:146: FutureWarning: The frame.append method is deprecated and will be removed from pandas in a future version. Use pandas.concat instead.\n",
      "  forecast = forecast.append(fcast,ignore_index=True)\n"
     ]
    }
   ],
   "source": [
    "ex1 = expo(df = df_prep,horizon = 12, date_variable='date',target_variable='sales',field_list=f_list,ts_id='srl_num',seasonal_periods=52,use_boxcox=False)"
   ]
  },
  {
   "cell_type": "code",
   "execution_count": 14,
   "metadata": {},
   "outputs": [],
   "source": [
    "fcast1 = ex1.forecast"
   ]
  },
  {
   "cell_type": "markdown",
   "metadata": {},
   "source": []
  },
  {
   "cell_type": "code",
   "execution_count": 15,
   "metadata": {},
   "outputs": [
    {
     "data": {
      "text/html": [
       "<div>\n",
       "<style scoped>\n",
       "    .dataframe tbody tr th:only-of-type {\n",
       "        vertical-align: middle;\n",
       "    }\n",
       "\n",
       "    .dataframe tbody tr th {\n",
       "        vertical-align: top;\n",
       "    }\n",
       "\n",
       "    .dataframe thead th {\n",
       "        text-align: right;\n",
       "    }\n",
       "</style>\n",
       "<table border=\"1\" class=\"dataframe\">\n",
       "  <thead>\n",
       "    <tr style=\"text-align: right;\">\n",
       "      <th></th>\n",
       "      <th>date</th>\n",
       "      <th>forecast</th>\n",
       "      <th>srl_num</th>\n",
       "      <th>store_number</th>\n",
       "      <th>store_name</th>\n",
       "      <th>city</th>\n",
       "      <th>county</th>\n",
       "    </tr>\n",
       "  </thead>\n",
       "  <tbody>\n",
       "    <tr>\n",
       "      <th>0</th>\n",
       "      <td>2022-02-13</td>\n",
       "      <td>17471.622359</td>\n",
       "      <td>74</td>\n",
       "      <td>2106.0</td>\n",
       "      <td>Hillstreet News and Tobacco</td>\n",
       "      <td>Cedar Falls</td>\n",
       "      <td>BLACK HAWK</td>\n",
       "    </tr>\n",
       "    <tr>\n",
       "      <th>1</th>\n",
       "      <td>2022-02-20</td>\n",
       "      <td>13975.493124</td>\n",
       "      <td>74</td>\n",
       "      <td>2106.0</td>\n",
       "      <td>Hillstreet News and Tobacco</td>\n",
       "      <td>Cedar Falls</td>\n",
       "      <td>BLACK HAWK</td>\n",
       "    </tr>\n",
       "    <tr>\n",
       "      <th>2</th>\n",
       "      <td>2022-02-27</td>\n",
       "      <td>16123.527605</td>\n",
       "      <td>74</td>\n",
       "      <td>2106.0</td>\n",
       "      <td>Hillstreet News and Tobacco</td>\n",
       "      <td>Cedar Falls</td>\n",
       "      <td>BLACK HAWK</td>\n",
       "    </tr>\n",
       "    <tr>\n",
       "      <th>3</th>\n",
       "      <td>2022-03-06</td>\n",
       "      <td>16522.966457</td>\n",
       "      <td>74</td>\n",
       "      <td>2106.0</td>\n",
       "      <td>Hillstreet News and Tobacco</td>\n",
       "      <td>Cedar Falls</td>\n",
       "      <td>BLACK HAWK</td>\n",
       "    </tr>\n",
       "    <tr>\n",
       "      <th>4</th>\n",
       "      <td>2022-03-13</td>\n",
       "      <td>16727.444455</td>\n",
       "      <td>74</td>\n",
       "      <td>2106.0</td>\n",
       "      <td>Hillstreet News and Tobacco</td>\n",
       "      <td>Cedar Falls</td>\n",
       "      <td>BLACK HAWK</td>\n",
       "    </tr>\n",
       "  </tbody>\n",
       "</table>\n",
       "</div>"
      ],
      "text/plain": [
       "        date      forecast srl_num  store_number                   store_name  \\\n",
       "0 2022-02-13  17471.622359      74        2106.0  Hillstreet News and Tobacco   \n",
       "1 2022-02-20  13975.493124      74        2106.0  Hillstreet News and Tobacco   \n",
       "2 2022-02-27  16123.527605      74        2106.0  Hillstreet News and Tobacco   \n",
       "3 2022-03-06  16522.966457      74        2106.0  Hillstreet News and Tobacco   \n",
       "4 2022-03-13  16727.444455      74        2106.0  Hillstreet News and Tobacco   \n",
       "\n",
       "          city      county  \n",
       "0  Cedar Falls  BLACK HAWK  \n",
       "1  Cedar Falls  BLACK HAWK  \n",
       "2  Cedar Falls  BLACK HAWK  \n",
       "3  Cedar Falls  BLACK HAWK  \n",
       "4  Cedar Falls  BLACK HAWK  "
      ]
     },
     "execution_count": 15,
     "metadata": {},
     "output_type": "execute_result"
    }
   ],
   "source": [
    "fcast1.head()"
   ]
  },
  {
   "cell_type": "code",
   "execution_count": 16,
   "metadata": {},
   "outputs": [
    {
     "data": {
      "text/html": [
       "<div>\n",
       "<style scoped>\n",
       "    .dataframe tbody tr th:only-of-type {\n",
       "        vertical-align: middle;\n",
       "    }\n",
       "\n",
       "    .dataframe tbody tr th {\n",
       "        vertical-align: top;\n",
       "    }\n",
       "\n",
       "    .dataframe thead th {\n",
       "        text-align: right;\n",
       "    }\n",
       "</style>\n",
       "<table border=\"1\" class=\"dataframe\">\n",
       "  <thead>\n",
       "    <tr style=\"text-align: right;\">\n",
       "      <th></th>\n",
       "      <th>date</th>\n",
       "      <th>store_number</th>\n",
       "      <th>store_name</th>\n",
       "      <th>city</th>\n",
       "      <th>county</th>\n",
       "      <th>sales</th>\n",
       "    </tr>\n",
       "  </thead>\n",
       "  <tbody>\n",
       "    <tr>\n",
       "      <th>0</th>\n",
       "      <td>2022-01-09</td>\n",
       "      <td>4129</td>\n",
       "      <td>Cyclone Liquors</td>\n",
       "      <td>Ames</td>\n",
       "      <td>STORY</td>\n",
       "      <td>3570.58</td>\n",
       "    </tr>\n",
       "    <tr>\n",
       "      <th>1</th>\n",
       "      <td>2022-01-16</td>\n",
       "      <td>4129</td>\n",
       "      <td>Cyclone Liquors</td>\n",
       "      <td>Ames</td>\n",
       "      <td>STORY</td>\n",
       "      <td>13461.98</td>\n",
       "    </tr>\n",
       "    <tr>\n",
       "      <th>2</th>\n",
       "      <td>2022-01-23</td>\n",
       "      <td>4129</td>\n",
       "      <td>Cyclone Liquors</td>\n",
       "      <td>Ames</td>\n",
       "      <td>STORY</td>\n",
       "      <td>12398.75</td>\n",
       "    </tr>\n",
       "    <tr>\n",
       "      <th>3</th>\n",
       "      <td>2022-01-30</td>\n",
       "      <td>4129</td>\n",
       "      <td>Cyclone Liquors</td>\n",
       "      <td>Ames</td>\n",
       "      <td>STORY</td>\n",
       "      <td>15761.38</td>\n",
       "    </tr>\n",
       "    <tr>\n",
       "      <th>4</th>\n",
       "      <td>2022-02-06</td>\n",
       "      <td>4129</td>\n",
       "      <td>Cyclone Liquors</td>\n",
       "      <td>Ames</td>\n",
       "      <td>STORY</td>\n",
       "      <td>14926.81</td>\n",
       "    </tr>\n",
       "    <tr>\n",
       "      <th>...</th>\n",
       "      <td>...</td>\n",
       "      <td>...</td>\n",
       "      <td>...</td>\n",
       "      <td>...</td>\n",
       "      <td>...</td>\n",
       "      <td>...</td>\n",
       "    </tr>\n",
       "    <tr>\n",
       "      <th>21187</th>\n",
       "      <td>2019-03-24</td>\n",
       "      <td>2588</td>\n",
       "      <td>Hy-Vee Food and Drug #6 / Cedar Rapids</td>\n",
       "      <td>Cedar Rapids</td>\n",
       "      <td>LINN</td>\n",
       "      <td>11009.05</td>\n",
       "    </tr>\n",
       "    <tr>\n",
       "      <th>21188</th>\n",
       "      <td>2019-07-07</td>\n",
       "      <td>2588</td>\n",
       "      <td>Hy-Vee Food and Drug #6 / Cedar Rapids</td>\n",
       "      <td>Cedar Rapids</td>\n",
       "      <td>LINN</td>\n",
       "      <td>13782.98</td>\n",
       "    </tr>\n",
       "    <tr>\n",
       "      <th>21189</th>\n",
       "      <td>2019-10-06</td>\n",
       "      <td>2588</td>\n",
       "      <td>Hy-Vee Food and Drug #6 / Cedar Rapids</td>\n",
       "      <td>Cedar Rapids</td>\n",
       "      <td>LINN</td>\n",
       "      <td>11923.47</td>\n",
       "    </tr>\n",
       "    <tr>\n",
       "      <th>21190</th>\n",
       "      <td>2019-05-05</td>\n",
       "      <td>2588</td>\n",
       "      <td>Hy-Vee Food and Drug #6 / Cedar Rapids</td>\n",
       "      <td>Cedar Rapids</td>\n",
       "      <td>LINN</td>\n",
       "      <td>32141.39</td>\n",
       "    </tr>\n",
       "    <tr>\n",
       "      <th>21191</th>\n",
       "      <td>2020-11-01</td>\n",
       "      <td>2588</td>\n",
       "      <td>Hy-Vee Food and Drug #6 / Cedar Rapids</td>\n",
       "      <td>Cedar Rapids</td>\n",
       "      <td>LINN</td>\n",
       "      <td>21944.33</td>\n",
       "    </tr>\n",
       "  </tbody>\n",
       "</table>\n",
       "<p>21192 rows × 6 columns</p>\n",
       "</div>"
      ],
      "text/plain": [
       "             date  store_number                              store_name  \\\n",
       "0      2022-01-09          4129                         Cyclone Liquors   \n",
       "1      2022-01-16          4129                         Cyclone Liquors   \n",
       "2      2022-01-23          4129                         Cyclone Liquors   \n",
       "3      2022-01-30          4129                         Cyclone Liquors   \n",
       "4      2022-02-06          4129                         Cyclone Liquors   \n",
       "...           ...           ...                                     ...   \n",
       "21187  2019-03-24          2588  Hy-Vee Food and Drug #6 / Cedar Rapids   \n",
       "21188  2019-07-07          2588  Hy-Vee Food and Drug #6 / Cedar Rapids   \n",
       "21189  2019-10-06          2588  Hy-Vee Food and Drug #6 / Cedar Rapids   \n",
       "21190  2019-05-05          2588  Hy-Vee Food and Drug #6 / Cedar Rapids   \n",
       "21191  2020-11-01          2588  Hy-Vee Food and Drug #6 / Cedar Rapids   \n",
       "\n",
       "               city county     sales  \n",
       "0              Ames  STORY   3570.58  \n",
       "1              Ames  STORY  13461.98  \n",
       "2              Ames  STORY  12398.75  \n",
       "3              Ames  STORY  15761.38  \n",
       "4              Ames  STORY  14926.81  \n",
       "...             ...    ...       ...  \n",
       "21187  Cedar Rapids   LINN  11009.05  \n",
       "21188  Cedar Rapids   LINN  13782.98  \n",
       "21189  Cedar Rapids   LINN  11923.47  \n",
       "21190  Cedar Rapids   LINN  32141.39  \n",
       "21191  Cedar Rapids   LINN  21944.33  \n",
       "\n",
       "[21192 rows x 6 columns]"
      ]
     },
     "execution_count": 16,
     "metadata": {},
     "output_type": "execute_result"
    }
   ],
   "source": [
    "df"
   ]
  },
  {
   "cell_type": "code",
   "execution_count": 17,
   "metadata": {},
   "outputs": [],
   "source": [
    "## Need to deploy and use function to plot by series\n",
    "srl = '1'\n",
    "fc_temp = fcast1[fcast1.srl_num == srl]\n",
    "df_temp = df_prep[df_prep.srl_num == srl]"
   ]
  },
  {
   "cell_type": "code",
   "execution_count": 18,
   "metadata": {},
   "outputs": [
    {
     "data": {
      "text/html": [
       "<div>\n",
       "<style scoped>\n",
       "    .dataframe tbody tr th:only-of-type {\n",
       "        vertical-align: middle;\n",
       "    }\n",
       "\n",
       "    .dataframe tbody tr th {\n",
       "        vertical-align: top;\n",
       "    }\n",
       "\n",
       "    .dataframe thead th {\n",
       "        text-align: right;\n",
       "    }\n",
       "</style>\n",
       "<table border=\"1\" class=\"dataframe\">\n",
       "  <thead>\n",
       "    <tr style=\"text-align: right;\">\n",
       "      <th></th>\n",
       "      <th>store_number</th>\n",
       "      <th>store_name</th>\n",
       "      <th>city</th>\n",
       "      <th>county</th>\n",
       "      <th>date</th>\n",
       "      <th>srl_num</th>\n",
       "      <th>sales</th>\n",
       "    </tr>\n",
       "  </thead>\n",
       "  <tbody>\n",
       "    <tr>\n",
       "      <th>1275</th>\n",
       "      <td>2501.0</td>\n",
       "      <td>Hy-Vee  #2 / Ames</td>\n",
       "      <td>Ames</td>\n",
       "      <td>STORY</td>\n",
       "      <td>2018-01-07</td>\n",
       "      <td>1</td>\n",
       "      <td>31348.66</td>\n",
       "    </tr>\n",
       "    <tr>\n",
       "      <th>1276</th>\n",
       "      <td>2501.0</td>\n",
       "      <td>Hy-Vee  #2 / Ames</td>\n",
       "      <td>Ames</td>\n",
       "      <td>STORY</td>\n",
       "      <td>2018-01-14</td>\n",
       "      <td>1</td>\n",
       "      <td>19585.41</td>\n",
       "    </tr>\n",
       "    <tr>\n",
       "      <th>1277</th>\n",
       "      <td>2501.0</td>\n",
       "      <td>Hy-Vee  #2 / Ames</td>\n",
       "      <td>Ames</td>\n",
       "      <td>STORY</td>\n",
       "      <td>2018-01-21</td>\n",
       "      <td>1</td>\n",
       "      <td>21286.85</td>\n",
       "    </tr>\n",
       "    <tr>\n",
       "      <th>1278</th>\n",
       "      <td>2501.0</td>\n",
       "      <td>Hy-Vee  #2 / Ames</td>\n",
       "      <td>Ames</td>\n",
       "      <td>STORY</td>\n",
       "      <td>2018-01-28</td>\n",
       "      <td>1</td>\n",
       "      <td>17127.81</td>\n",
       "    </tr>\n",
       "    <tr>\n",
       "      <th>1279</th>\n",
       "      <td>2501.0</td>\n",
       "      <td>Hy-Vee  #2 / Ames</td>\n",
       "      <td>Ames</td>\n",
       "      <td>STORY</td>\n",
       "      <td>2018-02-04</td>\n",
       "      <td>1</td>\n",
       "      <td>20653.26</td>\n",
       "    </tr>\n",
       "  </tbody>\n",
       "</table>\n",
       "</div>"
      ],
      "text/plain": [
       "      store_number         store_name  city county       date srl_num  \\\n",
       "1275        2501.0  Hy-Vee  #2 / Ames  Ames  STORY 2018-01-07       1   \n",
       "1276        2501.0  Hy-Vee  #2 / Ames  Ames  STORY 2018-01-14       1   \n",
       "1277        2501.0  Hy-Vee  #2 / Ames  Ames  STORY 2018-01-21       1   \n",
       "1278        2501.0  Hy-Vee  #2 / Ames  Ames  STORY 2018-01-28       1   \n",
       "1279        2501.0  Hy-Vee  #2 / Ames  Ames  STORY 2018-02-04       1   \n",
       "\n",
       "         sales  \n",
       "1275  31348.66  \n",
       "1276  19585.41  \n",
       "1277  21286.85  \n",
       "1278  17127.81  \n",
       "1279  20653.26  "
      ]
     },
     "execution_count": 18,
     "metadata": {},
     "output_type": "execute_result"
    }
   ],
   "source": [
    "df_temp.head()"
   ]
  },
  {
   "cell_type": "code",
   "execution_count": 20,
   "metadata": {},
   "outputs": [
    {
     "data": {
      "text/plain": [
       "<matplotlib.legend.Legend at 0x7fc045f2faf0>"
      ]
     },
     "execution_count": 20,
     "metadata": {},
     "output_type": "execute_result"
    },
    {
     "data": {
      "image/png": "[encoded data removed]",
      "text/plain": [
       "<Figure size 864x576 with 1 Axes>"
      ]
     },
     "metadata": {
      "needs_background": "light"
     },
     "output_type": "display_data"
    }
   ],
   "source": [
    "fig, ax = plt.subplots(figsize=(12,8))\n",
    "ax.plot(df_temp.date,df_temp.sales,label='sales')\n",
    "ax.plot(fc_temp.date,fc_temp.forecast,color='red',label='forecast')\n",
    "ax.legend()"
   ]
  },
  {
   "cell_type": "code",
   "execution_count": null,
   "metadata": {},
   "outputs": [],
   "source": []
  }
 ],
 "metadata": {
  "kernelspec": {
   "display_name": "Python 3.10.4 ('.venv': venv)",
   "language": "python",
   "name": "python3"
  },
  "language_info": {
   "codemirror_mode": {
    "name": "ipython",
    "version": 3
   },
   "file_extension": ".py",
   "mimetype": "text/x-python",
   "name": "python",
   "nbconvert_exporter": "python",
   "pygments_lexer": "ipython3",
   "version": "3.10.4"
  },
  "orig_nbformat": 4,
  "vscode": {
   "interpreter": {
    "hash": "aadc4c4e85fc77a67ae63b750110916f150da0ab827ab9eb9b49b64469f16cc9"
   }
  }
 },
 "nbformat": 4,
 "nbformat_minor": 2
}
